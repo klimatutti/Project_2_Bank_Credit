{
 "cells": [
  {
   "cell_type": "markdown",
   "id": "9c2b4242",
   "metadata": {},
   "source": [
    "# Исследование надежности заемщиков"
   ]
  },
  {
   "cell_type": "markdown",
   "id": "b1e774da",
   "metadata": {},
   "source": [
    "## 1 Изучение общей информации о данных"
   ]
  },
  {
   "cell_type": "markdown",
   "id": "6e072092",
   "metadata": {},
   "source": [
    "**Импорт библиотеки pandas. Считывание данных из csv-файла в датафрейм в переменную `data`.**"
   ]
  },
  {
   "cell_type": "code",
   "execution_count": 1,
   "id": "dfcb243a",
   "metadata": {},
   "outputs": [],
   "source": [
    "import pandas as pd\n",
    "import seaborn"
   ]
  },
  {
   "cell_type": "code",
   "execution_count": 2,
   "id": "8a5d4cf0",
   "metadata": {},
   "outputs": [],
   "source": [
    "data = pd.read_csv('C:/Users/klimatutti/Downloads/data.csv')\n",
    "#data = pd.read_csv('/datasets/data.csv')"
   ]
  },
  {
   "cell_type": "markdown",
   "id": "8b363030",
   "metadata": {},
   "source": [
    "**Вывод первых 20 строчек датафрейма `data` на экран**"
   ]
  },
  {
   "cell_type": "code",
   "execution_count": 3,
   "id": "e1fc6bbb",
   "metadata": {},
   "outputs": [
    {
     "data": {
      "text/html": [
       "<div>\n",
       "<style scoped>\n",
       "    .dataframe tbody tr th:only-of-type {\n",
       "        vertical-align: middle;\n",
       "    }\n",
       "\n",
       "    .dataframe tbody tr th {\n",
       "        vertical-align: top;\n",
       "    }\n",
       "\n",
       "    .dataframe thead th {\n",
       "        text-align: right;\n",
       "    }\n",
       "</style>\n",
       "<table border=\"1\" class=\"dataframe\">\n",
       "  <thead>\n",
       "    <tr style=\"text-align: right;\">\n",
       "      <th></th>\n",
       "      <th>children</th>\n",
       "      <th>days_employed</th>\n",
       "      <th>dob_years</th>\n",
       "      <th>education</th>\n",
       "      <th>education_id</th>\n",
       "      <th>family_status</th>\n",
       "      <th>family_status_id</th>\n",
       "      <th>gender</th>\n",
       "      <th>income_type</th>\n",
       "      <th>debt</th>\n",
       "      <th>total_income</th>\n",
       "      <th>purpose</th>\n",
       "    </tr>\n",
       "  </thead>\n",
       "  <tbody>\n",
       "    <tr>\n",
       "      <th>0</th>\n",
       "      <td>1</td>\n",
       "      <td>-8437.673028</td>\n",
       "      <td>42</td>\n",
       "      <td>высшее</td>\n",
       "      <td>0</td>\n",
       "      <td>женат / замужем</td>\n",
       "      <td>0</td>\n",
       "      <td>F</td>\n",
       "      <td>сотрудник</td>\n",
       "      <td>0</td>\n",
       "      <td>253875.639453</td>\n",
       "      <td>покупка жилья</td>\n",
       "    </tr>\n",
       "    <tr>\n",
       "      <th>1</th>\n",
       "      <td>1</td>\n",
       "      <td>-4024.803754</td>\n",
       "      <td>36</td>\n",
       "      <td>среднее</td>\n",
       "      <td>1</td>\n",
       "      <td>женат / замужем</td>\n",
       "      <td>0</td>\n",
       "      <td>F</td>\n",
       "      <td>сотрудник</td>\n",
       "      <td>0</td>\n",
       "      <td>112080.014102</td>\n",
       "      <td>приобретение автомобиля</td>\n",
       "    </tr>\n",
       "    <tr>\n",
       "      <th>2</th>\n",
       "      <td>0</td>\n",
       "      <td>-5623.422610</td>\n",
       "      <td>33</td>\n",
       "      <td>Среднее</td>\n",
       "      <td>1</td>\n",
       "      <td>женат / замужем</td>\n",
       "      <td>0</td>\n",
       "      <td>M</td>\n",
       "      <td>сотрудник</td>\n",
       "      <td>0</td>\n",
       "      <td>145885.952297</td>\n",
       "      <td>покупка жилья</td>\n",
       "    </tr>\n",
       "    <tr>\n",
       "      <th>3</th>\n",
       "      <td>3</td>\n",
       "      <td>-4124.747207</td>\n",
       "      <td>32</td>\n",
       "      <td>среднее</td>\n",
       "      <td>1</td>\n",
       "      <td>женат / замужем</td>\n",
       "      <td>0</td>\n",
       "      <td>M</td>\n",
       "      <td>сотрудник</td>\n",
       "      <td>0</td>\n",
       "      <td>267628.550329</td>\n",
       "      <td>дополнительное образование</td>\n",
       "    </tr>\n",
       "    <tr>\n",
       "      <th>4</th>\n",
       "      <td>0</td>\n",
       "      <td>340266.072047</td>\n",
       "      <td>53</td>\n",
       "      <td>среднее</td>\n",
       "      <td>1</td>\n",
       "      <td>гражданский брак</td>\n",
       "      <td>1</td>\n",
       "      <td>F</td>\n",
       "      <td>пенсионер</td>\n",
       "      <td>0</td>\n",
       "      <td>158616.077870</td>\n",
       "      <td>сыграть свадьбу</td>\n",
       "    </tr>\n",
       "    <tr>\n",
       "      <th>5</th>\n",
       "      <td>0</td>\n",
       "      <td>-926.185831</td>\n",
       "      <td>27</td>\n",
       "      <td>высшее</td>\n",
       "      <td>0</td>\n",
       "      <td>гражданский брак</td>\n",
       "      <td>1</td>\n",
       "      <td>M</td>\n",
       "      <td>компаньон</td>\n",
       "      <td>0</td>\n",
       "      <td>255763.565419</td>\n",
       "      <td>покупка жилья</td>\n",
       "    </tr>\n",
       "    <tr>\n",
       "      <th>6</th>\n",
       "      <td>0</td>\n",
       "      <td>-2879.202052</td>\n",
       "      <td>43</td>\n",
       "      <td>высшее</td>\n",
       "      <td>0</td>\n",
       "      <td>женат / замужем</td>\n",
       "      <td>0</td>\n",
       "      <td>F</td>\n",
       "      <td>компаньон</td>\n",
       "      <td>0</td>\n",
       "      <td>240525.971920</td>\n",
       "      <td>операции с жильем</td>\n",
       "    </tr>\n",
       "    <tr>\n",
       "      <th>7</th>\n",
       "      <td>0</td>\n",
       "      <td>-152.779569</td>\n",
       "      <td>50</td>\n",
       "      <td>СРЕДНЕЕ</td>\n",
       "      <td>1</td>\n",
       "      <td>женат / замужем</td>\n",
       "      <td>0</td>\n",
       "      <td>M</td>\n",
       "      <td>сотрудник</td>\n",
       "      <td>0</td>\n",
       "      <td>135823.934197</td>\n",
       "      <td>образование</td>\n",
       "    </tr>\n",
       "    <tr>\n",
       "      <th>8</th>\n",
       "      <td>2</td>\n",
       "      <td>-6929.865299</td>\n",
       "      <td>35</td>\n",
       "      <td>ВЫСШЕЕ</td>\n",
       "      <td>0</td>\n",
       "      <td>гражданский брак</td>\n",
       "      <td>1</td>\n",
       "      <td>F</td>\n",
       "      <td>сотрудник</td>\n",
       "      <td>0</td>\n",
       "      <td>95856.832424</td>\n",
       "      <td>на проведение свадьбы</td>\n",
       "    </tr>\n",
       "    <tr>\n",
       "      <th>9</th>\n",
       "      <td>0</td>\n",
       "      <td>-2188.756445</td>\n",
       "      <td>41</td>\n",
       "      <td>среднее</td>\n",
       "      <td>1</td>\n",
       "      <td>женат / замужем</td>\n",
       "      <td>0</td>\n",
       "      <td>M</td>\n",
       "      <td>сотрудник</td>\n",
       "      <td>0</td>\n",
       "      <td>144425.938277</td>\n",
       "      <td>покупка жилья для семьи</td>\n",
       "    </tr>\n",
       "    <tr>\n",
       "      <th>10</th>\n",
       "      <td>2</td>\n",
       "      <td>-4171.483647</td>\n",
       "      <td>36</td>\n",
       "      <td>высшее</td>\n",
       "      <td>0</td>\n",
       "      <td>женат / замужем</td>\n",
       "      <td>0</td>\n",
       "      <td>M</td>\n",
       "      <td>компаньон</td>\n",
       "      <td>0</td>\n",
       "      <td>113943.491460</td>\n",
       "      <td>покупка недвижимости</td>\n",
       "    </tr>\n",
       "    <tr>\n",
       "      <th>11</th>\n",
       "      <td>0</td>\n",
       "      <td>-792.701887</td>\n",
       "      <td>40</td>\n",
       "      <td>среднее</td>\n",
       "      <td>1</td>\n",
       "      <td>женат / замужем</td>\n",
       "      <td>0</td>\n",
       "      <td>F</td>\n",
       "      <td>сотрудник</td>\n",
       "      <td>0</td>\n",
       "      <td>77069.234271</td>\n",
       "      <td>покупка коммерческой недвижимости</td>\n",
       "    </tr>\n",
       "    <tr>\n",
       "      <th>12</th>\n",
       "      <td>0</td>\n",
       "      <td>NaN</td>\n",
       "      <td>65</td>\n",
       "      <td>среднее</td>\n",
       "      <td>1</td>\n",
       "      <td>гражданский брак</td>\n",
       "      <td>1</td>\n",
       "      <td>M</td>\n",
       "      <td>пенсионер</td>\n",
       "      <td>0</td>\n",
       "      <td>NaN</td>\n",
       "      <td>сыграть свадьбу</td>\n",
       "    </tr>\n",
       "    <tr>\n",
       "      <th>13</th>\n",
       "      <td>0</td>\n",
       "      <td>-1846.641941</td>\n",
       "      <td>54</td>\n",
       "      <td>неоконченное высшее</td>\n",
       "      <td>2</td>\n",
       "      <td>женат / замужем</td>\n",
       "      <td>0</td>\n",
       "      <td>F</td>\n",
       "      <td>сотрудник</td>\n",
       "      <td>0</td>\n",
       "      <td>130458.228857</td>\n",
       "      <td>приобретение автомобиля</td>\n",
       "    </tr>\n",
       "    <tr>\n",
       "      <th>14</th>\n",
       "      <td>0</td>\n",
       "      <td>-1844.956182</td>\n",
       "      <td>56</td>\n",
       "      <td>высшее</td>\n",
       "      <td>0</td>\n",
       "      <td>гражданский брак</td>\n",
       "      <td>1</td>\n",
       "      <td>F</td>\n",
       "      <td>компаньон</td>\n",
       "      <td>1</td>\n",
       "      <td>165127.911772</td>\n",
       "      <td>покупка жилой недвижимости</td>\n",
       "    </tr>\n",
       "    <tr>\n",
       "      <th>15</th>\n",
       "      <td>1</td>\n",
       "      <td>-972.364419</td>\n",
       "      <td>26</td>\n",
       "      <td>среднее</td>\n",
       "      <td>1</td>\n",
       "      <td>женат / замужем</td>\n",
       "      <td>0</td>\n",
       "      <td>F</td>\n",
       "      <td>сотрудник</td>\n",
       "      <td>0</td>\n",
       "      <td>116820.904450</td>\n",
       "      <td>строительство собственной недвижимости</td>\n",
       "    </tr>\n",
       "    <tr>\n",
       "      <th>16</th>\n",
       "      <td>0</td>\n",
       "      <td>-1719.934226</td>\n",
       "      <td>35</td>\n",
       "      <td>среднее</td>\n",
       "      <td>1</td>\n",
       "      <td>женат / замужем</td>\n",
       "      <td>0</td>\n",
       "      <td>F</td>\n",
       "      <td>сотрудник</td>\n",
       "      <td>0</td>\n",
       "      <td>289202.704229</td>\n",
       "      <td>недвижимость</td>\n",
       "    </tr>\n",
       "    <tr>\n",
       "      <th>17</th>\n",
       "      <td>0</td>\n",
       "      <td>-2369.999720</td>\n",
       "      <td>33</td>\n",
       "      <td>высшее</td>\n",
       "      <td>0</td>\n",
       "      <td>гражданский брак</td>\n",
       "      <td>1</td>\n",
       "      <td>M</td>\n",
       "      <td>сотрудник</td>\n",
       "      <td>0</td>\n",
       "      <td>90410.586745</td>\n",
       "      <td>строительство недвижимости</td>\n",
       "    </tr>\n",
       "    <tr>\n",
       "      <th>18</th>\n",
       "      <td>0</td>\n",
       "      <td>400281.136913</td>\n",
       "      <td>53</td>\n",
       "      <td>среднее</td>\n",
       "      <td>1</td>\n",
       "      <td>вдовец / вдова</td>\n",
       "      <td>2</td>\n",
       "      <td>F</td>\n",
       "      <td>пенсионер</td>\n",
       "      <td>0</td>\n",
       "      <td>56823.777243</td>\n",
       "      <td>на покупку подержанного автомобиля</td>\n",
       "    </tr>\n",
       "    <tr>\n",
       "      <th>19</th>\n",
       "      <td>0</td>\n",
       "      <td>-10038.818549</td>\n",
       "      <td>48</td>\n",
       "      <td>СРЕДНЕЕ</td>\n",
       "      <td>1</td>\n",
       "      <td>в разводе</td>\n",
       "      <td>3</td>\n",
       "      <td>F</td>\n",
       "      <td>сотрудник</td>\n",
       "      <td>0</td>\n",
       "      <td>242831.107982</td>\n",
       "      <td>на покупку своего автомобиля</td>\n",
       "    </tr>\n",
       "  </tbody>\n",
       "</table>\n",
       "</div>"
      ],
      "text/plain": [
       "    children  days_employed  dob_years            education  education_id  \\\n",
       "0          1   -8437.673028         42               высшее             0   \n",
       "1          1   -4024.803754         36              среднее             1   \n",
       "2          0   -5623.422610         33              Среднее             1   \n",
       "3          3   -4124.747207         32              среднее             1   \n",
       "4          0  340266.072047         53              среднее             1   \n",
       "5          0    -926.185831         27               высшее             0   \n",
       "6          0   -2879.202052         43               высшее             0   \n",
       "7          0    -152.779569         50              СРЕДНЕЕ             1   \n",
       "8          2   -6929.865299         35               ВЫСШЕЕ             0   \n",
       "9          0   -2188.756445         41              среднее             1   \n",
       "10         2   -4171.483647         36               высшее             0   \n",
       "11         0    -792.701887         40              среднее             1   \n",
       "12         0            NaN         65              среднее             1   \n",
       "13         0   -1846.641941         54  неоконченное высшее             2   \n",
       "14         0   -1844.956182         56               высшее             0   \n",
       "15         1    -972.364419         26              среднее             1   \n",
       "16         0   -1719.934226         35              среднее             1   \n",
       "17         0   -2369.999720         33               высшее             0   \n",
       "18         0  400281.136913         53              среднее             1   \n",
       "19         0  -10038.818549         48              СРЕДНЕЕ             1   \n",
       "\n",
       "       family_status  family_status_id gender income_type  debt  \\\n",
       "0    женат / замужем                 0      F   сотрудник     0   \n",
       "1    женат / замужем                 0      F   сотрудник     0   \n",
       "2    женат / замужем                 0      M   сотрудник     0   \n",
       "3    женат / замужем                 0      M   сотрудник     0   \n",
       "4   гражданский брак                 1      F   пенсионер     0   \n",
       "5   гражданский брак                 1      M   компаньон     0   \n",
       "6    женат / замужем                 0      F   компаньон     0   \n",
       "7    женат / замужем                 0      M   сотрудник     0   \n",
       "8   гражданский брак                 1      F   сотрудник     0   \n",
       "9    женат / замужем                 0      M   сотрудник     0   \n",
       "10   женат / замужем                 0      M   компаньон     0   \n",
       "11   женат / замужем                 0      F   сотрудник     0   \n",
       "12  гражданский брак                 1      M   пенсионер     0   \n",
       "13   женат / замужем                 0      F   сотрудник     0   \n",
       "14  гражданский брак                 1      F   компаньон     1   \n",
       "15   женат / замужем                 0      F   сотрудник     0   \n",
       "16   женат / замужем                 0      F   сотрудник     0   \n",
       "17  гражданский брак                 1      M   сотрудник     0   \n",
       "18    вдовец / вдова                 2      F   пенсионер     0   \n",
       "19         в разводе                 3      F   сотрудник     0   \n",
       "\n",
       "     total_income                                 purpose  \n",
       "0   253875.639453                           покупка жилья  \n",
       "1   112080.014102                 приобретение автомобиля  \n",
       "2   145885.952297                           покупка жилья  \n",
       "3   267628.550329              дополнительное образование  \n",
       "4   158616.077870                         сыграть свадьбу  \n",
       "5   255763.565419                           покупка жилья  \n",
       "6   240525.971920                       операции с жильем  \n",
       "7   135823.934197                             образование  \n",
       "8    95856.832424                   на проведение свадьбы  \n",
       "9   144425.938277                 покупка жилья для семьи  \n",
       "10  113943.491460                    покупка недвижимости  \n",
       "11   77069.234271       покупка коммерческой недвижимости  \n",
       "12            NaN                         сыграть свадьбу  \n",
       "13  130458.228857                 приобретение автомобиля  \n",
       "14  165127.911772              покупка жилой недвижимости  \n",
       "15  116820.904450  строительство собственной недвижимости  \n",
       "16  289202.704229                            недвижимость  \n",
       "17   90410.586745              строительство недвижимости  \n",
       "18   56823.777243      на покупку подержанного автомобиля  \n",
       "19  242831.107982            на покупку своего автомобиля  "
      ]
     },
     "execution_count": 3,
     "metadata": {},
     "output_type": "execute_result"
    }
   ],
   "source": [
    "data.head(20)"
   ]
  },
  {
   "cell_type": "markdown",
   "id": "e52ef69a",
   "metadata": {},
   "source": [
    "При первом знакомстве с данными можно заметить ряд ошибок:\n",
    "- в столбце ``days_employed`` отрицательные значения (количество отработанных дней может быть только положительным числом)\n",
    "- в стобце ``education`` слова записаны в разном регистре\n",
    "- в столбце ``purpose`` одина и таже причина получения кредита записана по-разному\n",
    "- а также во многих словах есть пропуски значений"
   ]
  },
  {
   "cell_type": "markdown",
   "id": "48e539e7",
   "metadata": {},
   "source": [
    "**Вывод общей информации о датафрейме**"
   ]
  },
  {
   "cell_type": "code",
   "execution_count": 4,
   "id": "bae0bdc2",
   "metadata": {},
   "outputs": [
    {
     "name": "stdout",
     "output_type": "stream",
     "text": [
      "<class 'pandas.core.frame.DataFrame'>\n",
      "RangeIndex: 21525 entries, 0 to 21524\n",
      "Data columns (total 12 columns):\n",
      " #   Column            Non-Null Count  Dtype  \n",
      "---  ------            --------------  -----  \n",
      " 0   children          21525 non-null  int64  \n",
      " 1   days_employed     19351 non-null  float64\n",
      " 2   dob_years         21525 non-null  int64  \n",
      " 3   education         21525 non-null  object \n",
      " 4   education_id      21525 non-null  int64  \n",
      " 5   family_status     21525 non-null  object \n",
      " 6   family_status_id  21525 non-null  int64  \n",
      " 7   gender            21525 non-null  object \n",
      " 8   income_type       21525 non-null  object \n",
      " 9   debt              21525 non-null  int64  \n",
      " 10  total_income      19351 non-null  float64\n",
      " 11  purpose           21525 non-null  object \n",
      "dtypes: float64(2), int64(5), object(5)\n",
      "memory usage: 2.0+ MB\n"
     ]
    }
   ],
   "source": [
    "data.info()"
   ]
  },
  {
   "cell_type": "markdown",
   "id": "fb9a21a7",
   "metadata": {},
   "source": [
    "На первый взгляд проблем с типами данных не наблюдается, но можно заметить пропуски в столбцах ``days_employed`` и ``total_income``"
   ]
  },
  {
   "cell_type": "markdown",
   "id": "d9015db1",
   "metadata": {},
   "source": [
    "## 2 Предобработка данных"
   ]
  },
  {
   "cell_type": "markdown",
   "id": "b1ecf0ed",
   "metadata": {},
   "source": [
    "### Удаление пропусков"
   ]
  },
  {
   "cell_type": "markdown",
   "id": "6f03939e",
   "metadata": {},
   "source": [
    "**Вывод количества пропущенных значений для каждого столбца.**"
   ]
  },
  {
   "cell_type": "code",
   "execution_count": 5,
   "id": "d693eaa7",
   "metadata": {},
   "outputs": [
    {
     "data": {
      "text/plain": [
       "children               0\n",
       "days_employed       2174\n",
       "dob_years              0\n",
       "education              0\n",
       "education_id           0\n",
       "family_status          0\n",
       "family_status_id       0\n",
       "gender                 0\n",
       "income_type            0\n",
       "debt                   0\n",
       "total_income        2174\n",
       "purpose                0\n",
       "dtype: int64"
      ]
     },
     "execution_count": 5,
     "metadata": {},
     "output_type": "execute_result"
    }
   ],
   "source": [
    "data.isna().sum()"
   ]
  },
  {
   "cell_type": "markdown",
   "id": "b0c177d7",
   "metadata": {},
   "source": [
    "**В двух столбцах есть пропущенные значения. Один из них — `days_employed`. Другой столбец с пропущенными значениями — `total_income` — хранит данные о доходах. На сумму дохода сильнее всего влияет тип занятости, поэтому заполнить пропуски в этом столбце нужно медианным значением по каждому типу из столбца `income_type`. Например, у человека с типом занятости `сотрудник` пропуск в столбце `total_income` должен быть заполнен медианным доходом среди всех записей с тем же типом**"
   ]
  },
  {
   "cell_type": "code",
   "execution_count": 6,
   "id": "8202eee3",
   "metadata": {},
   "outputs": [
    {
     "data": {
      "text/plain": [
       "0        253875.639453\n",
       "1        112080.014102\n",
       "2        145885.952297\n",
       "3        267628.550329\n",
       "4        158616.077870\n",
       "             ...      \n",
       "21520    224791.862382\n",
       "21521    155999.806512\n",
       "21522     89672.561153\n",
       "21523    244093.050500\n",
       "21524     82047.418899\n",
       "Name: total_income, Length: 21525, dtype: float64"
      ]
     },
     "execution_count": 6,
     "metadata": {},
     "output_type": "execute_result"
    }
   ],
   "source": [
    "for i in data['income_type'].unique():\n",
    "    data.loc[(data['income_type'] == i) & (data['total_income'].isna()), 'total_income'] = \\\n",
    "    data.loc[(data['income_type'] == i), 'total_income'].median()\n",
    "data['total_income']"
   ]
  },
  {
   "cell_type": "markdown",
   "id": "e2297004",
   "metadata": {},
   "source": [
    "Можем увидеть, что значения ``NaN`` в столбце ``total_income`` изменились."
   ]
  },
  {
   "cell_type": "markdown",
   "id": "2a8d4a7d",
   "metadata": {},
   "source": [
    "### Обработка аномальных значений"
   ]
  },
  {
   "cell_type": "markdown",
   "id": "d3ebe0a5",
   "metadata": {},
   "source": [
    "**В данных могут встречаться артефакты (аномалии) — значения, которые не отражают действительность и появились по какой-то ошибке. Таким артефактом будет отрицательное количество дней трудового стажа в столбце `days_employed`.**"
   ]
  },
  {
   "cell_type": "code",
   "execution_count": 7,
   "id": "9c50bfb1",
   "metadata": {},
   "outputs": [
    {
     "data": {
      "text/plain": [
       "0          8437.673028\n",
       "1          4024.803754\n",
       "2          5623.422610\n",
       "3          4124.747207\n",
       "4        340266.072047\n",
       "             ...      \n",
       "21520      4529.316663\n",
       "21521    343937.404131\n",
       "21522      2113.346888\n",
       "21523      3112.481705\n",
       "21524      1984.507589\n",
       "Name: days_employed, Length: 21525, dtype: float64"
      ]
     },
     "execution_count": 7,
     "metadata": {},
     "output_type": "execute_result"
    }
   ],
   "source": [
    "data['days_employed'] = abs(data['days_employed'])\n",
    "data['days_employed']"
   ]
  },
  {
   "cell_type": "markdown",
   "id": "410a0f95",
   "metadata": {},
   "source": [
    "Можно увидеть, что отрицательные значения в столбце `days_employed` стали положительными"
   ]
  },
  {
   "cell_type": "markdown",
   "id": "d9af5547",
   "metadata": {},
   "source": [
    "**Рассмотрим медианное значение трудового стажа `days_employed` в днях для каждого типа занятости.**"
   ]
  },
  {
   "cell_type": "code",
   "execution_count": 8,
   "id": "8b1ba716",
   "metadata": {},
   "outputs": [
    {
     "data": {
      "text/plain": [
       "income_type\n",
       "безработный        366413.652744\n",
       "в декрете            3296.759962\n",
       "госслужащий          2689.368353\n",
       "компаньон            1547.382223\n",
       "пенсионер          365213.306266\n",
       "предприниматель       520.848083\n",
       "сотрудник            1574.202821\n",
       "студент               578.751554\n",
       "Name: days_employed, dtype: float64"
      ]
     },
     "execution_count": 8,
     "metadata": {},
     "output_type": "execute_result"
    }
   ],
   "source": [
    "data.groupby('income_type')['days_employed'].median()"
   ]
  },
  {
   "cell_type": "markdown",
   "id": "ba1afddb",
   "metadata": {},
   "source": [
    "Можно увидеть, что у типа занятости *безработный* и *пенсионер* слишком большие значения. Причину таких аномалий выявить сложно, а данные типы занятости в исследовании нам не понадобятся."
   ]
  },
  {
   "cell_type": "markdown",
   "id": "be3a8de9",
   "metadata": {},
   "source": [
    "**Рассмотрим аномальные значения и в других столбцах, например `children`.**"
   ]
  },
  {
   "cell_type": "code",
   "execution_count": 9,
   "id": "1003250d",
   "metadata": {},
   "outputs": [
    {
     "data": {
      "text/plain": [
       "array([ 1,  0,  3,  2, -1,  4, 20,  5], dtype=int64)"
      ]
     },
     "execution_count": 9,
     "metadata": {},
     "output_type": "execute_result"
    }
   ],
   "source": [
    "data['children'].unique()"
   ]
  },
  {
   "cell_type": "markdown",
   "id": "026a1ac9",
   "metadata": {},
   "source": [
    "Аномальные значения здесь *-1* и *20*. Удалим строки с данными значениями."
   ]
  },
  {
   "cell_type": "code",
   "execution_count": 10,
   "id": "e0f1a98b",
   "metadata": {},
   "outputs": [],
   "source": [
    "data = data.loc[(data['children'] != 20) & (data['children'] != -1)]"
   ]
  },
  {
   "cell_type": "markdown",
   "id": "8a3a538c",
   "metadata": {},
   "source": [
    "Проверим, что получилось."
   ]
  },
  {
   "cell_type": "code",
   "execution_count": 11,
   "id": "7c878502",
   "metadata": {},
   "outputs": [
    {
     "data": {
      "text/plain": [
       "array([1, 0, 3, 2, 4, 5], dtype=int64)"
      ]
     },
     "execution_count": 11,
     "metadata": {},
     "output_type": "execute_result"
    }
   ],
   "source": [
    "data['children'].unique()"
   ]
  },
  {
   "cell_type": "markdown",
   "id": "673f05a7",
   "metadata": {},
   "source": [
    "### Удаление пропусков (продолжение)"
   ]
  },
  {
   "cell_type": "markdown",
   "id": "0fb3587b",
   "metadata": {},
   "source": [
    "**Пропуски в столбце `total_income` заменили на медианное значение. Сделаем тоже самое с `days_employed`.**"
   ]
  },
  {
   "cell_type": "code",
   "execution_count": 12,
   "id": "fa65a5c6",
   "metadata": {},
   "outputs": [
    {
     "data": {
      "text/plain": [
       "0          8437.673028\n",
       "1          4024.803754\n",
       "2          5623.422610\n",
       "3          4124.747207\n",
       "4        340266.072047\n",
       "             ...      \n",
       "21520      4529.316663\n",
       "21521    343937.404131\n",
       "21522      2113.346888\n",
       "21523      3112.481705\n",
       "21524      1984.507589\n",
       "Name: days_employed, Length: 21402, dtype: float64"
      ]
     },
     "execution_count": 12,
     "metadata": {},
     "output_type": "execute_result"
    }
   ],
   "source": [
    "for i in data['income_type'].unique():\n",
    "    data.loc[(data['income_type'] == i) & (data['days_employed'].isna()), 'days_employed'] = \\\n",
    "    data.loc[(data['income_type'] == i), 'days_employed'].median()\n",
    "data['days_employed']"
   ]
  },
  {
   "cell_type": "markdown",
   "id": "fdc5a3db",
   "metadata": {},
   "source": [
    "Пропусков больше нет."
   ]
  },
  {
   "cell_type": "markdown",
   "id": "f97c5916",
   "metadata": {},
   "source": [
    "**Проверим все данные. Сейчас пропусков не должно быть нигде.**"
   ]
  },
  {
   "cell_type": "code",
   "execution_count": 13,
   "id": "5ad8f9be",
   "metadata": {},
   "outputs": [
    {
     "data": {
      "text/plain": [
       "children            0\n",
       "days_employed       0\n",
       "dob_years           0\n",
       "education           0\n",
       "education_id        0\n",
       "family_status       0\n",
       "family_status_id    0\n",
       "gender              0\n",
       "income_type         0\n",
       "debt                0\n",
       "total_income        0\n",
       "purpose             0\n",
       "dtype: int64"
      ]
     },
     "execution_count": 13,
     "metadata": {},
     "output_type": "execute_result"
    }
   ],
   "source": [
    "data.isna().sum()"
   ]
  },
  {
   "cell_type": "markdown",
   "id": "b14a8a22",
   "metadata": {},
   "source": [
    "**Для точности информации поменяем тип данных в стобце `total_income` с вещественного на целочисленный.**"
   ]
  },
  {
   "cell_type": "code",
   "execution_count": 14,
   "id": "16a1bde1",
   "metadata": {},
   "outputs": [
    {
     "name": "stdout",
     "output_type": "stream",
     "text": [
      "<class 'pandas.core.frame.DataFrame'>\n",
      "Int64Index: 21402 entries, 0 to 21524\n",
      "Data columns (total 12 columns):\n",
      " #   Column            Non-Null Count  Dtype  \n",
      "---  ------            --------------  -----  \n",
      " 0   children          21402 non-null  int64  \n",
      " 1   days_employed     21402 non-null  float64\n",
      " 2   dob_years         21402 non-null  int64  \n",
      " 3   education         21402 non-null  object \n",
      " 4   education_id      21402 non-null  int64  \n",
      " 5   family_status     21402 non-null  object \n",
      " 6   family_status_id  21402 non-null  int64  \n",
      " 7   gender            21402 non-null  object \n",
      " 8   income_type       21402 non-null  object \n",
      " 9   debt              21402 non-null  int64  \n",
      " 10  total_income      21402 non-null  int32  \n",
      " 11  purpose           21402 non-null  object \n",
      "dtypes: float64(1), int32(1), int64(5), object(5)\n",
      "memory usage: 2.0+ MB\n"
     ]
    }
   ],
   "source": [
    "data['total_income'] = data['total_income'].astype(int)\n",
    "data.info()"
   ]
  },
  {
   "cell_type": "markdown",
   "id": "d3076890",
   "metadata": {},
   "source": [
    "### Обработка дубликатов"
   ]
  },
  {
   "cell_type": "markdown",
   "id": "6d29c597",
   "metadata": {},
   "source": [
    "**В начале работы мы обратили внимание на то, что в столбце `education` буквы имеют разный регистр. Исправим это.**"
   ]
  },
  {
   "cell_type": "code",
   "execution_count": 15,
   "id": "c71bd902",
   "metadata": {},
   "outputs": [],
   "source": [
    "data['education'] = data['education'].str.lower()"
   ]
  },
  {
   "cell_type": "markdown",
   "id": "4af03668",
   "metadata": {},
   "source": [
    "**Проверим и удалим дубликаты во всем датафрейме.**"
   ]
  },
  {
   "cell_type": "code",
   "execution_count": 16,
   "id": "e434f55f",
   "metadata": {},
   "outputs": [
    {
     "data": {
      "text/plain": [
       "71"
      ]
     },
     "execution_count": 16,
     "metadata": {},
     "output_type": "execute_result"
    }
   ],
   "source": [
    "data.duplicated().sum()"
   ]
  },
  {
   "cell_type": "code",
   "execution_count": 17,
   "id": "535b745e",
   "metadata": {},
   "outputs": [],
   "source": [
    "data = data.drop_duplicates()"
   ]
  },
  {
   "cell_type": "markdown",
   "id": "b07f6e34",
   "metadata": {},
   "source": [
    "### Категоризация данных"
   ]
  },
  {
   "cell_type": "markdown",
   "id": "d3bf27b2",
   "metadata": {},
   "source": [
    "**Для удобства работы с данными добавим новый столбец, в котором клиенты будут разбиты на категории.**\n",
    "- 0–30000 — `'E'`;\n",
    "- 30001–50000 — `'D'`;\n",
    "- 50001–200000 — `'C'`;\n",
    "- 200001–1000000 — `'B'`;\n",
    "- 1000001 и выше — `'A'`."
   ]
  },
  {
   "cell_type": "code",
   "execution_count": 18,
   "id": "24ddbfeb",
   "metadata": {},
   "outputs": [],
   "source": [
    "def categorize_income(param):\n",
    "    if 0 <= param <= 30000:\n",
    "        return 'E'\n",
    "    elif 30001 <= param <= 50000:\n",
    "        return 'D'\n",
    "    elif 50001 <= param <= 200000:\n",
    "        return 'C'\n",
    "    elif 200001 <= param <= 1000000:\n",
    "        return 'B'\n",
    "    else:\n",
    "        return 'A'"
   ]
  },
  {
   "cell_type": "code",
   "execution_count": 19,
   "id": "5836fe8b",
   "metadata": {},
   "outputs": [],
   "source": [
    "data['total_income_category'] = data['total_income'].apply(categorize_income)"
   ]
  },
  {
   "cell_type": "code",
   "execution_count": 20,
   "id": "7ae61d8b",
   "metadata": {},
   "outputs": [
    {
     "data": {
      "text/html": [
       "<div>\n",
       "<style scoped>\n",
       "    .dataframe tbody tr th:only-of-type {\n",
       "        vertical-align: middle;\n",
       "    }\n",
       "\n",
       "    .dataframe tbody tr th {\n",
       "        vertical-align: top;\n",
       "    }\n",
       "\n",
       "    .dataframe thead th {\n",
       "        text-align: right;\n",
       "    }\n",
       "</style>\n",
       "<table border=\"1\" class=\"dataframe\">\n",
       "  <thead>\n",
       "    <tr style=\"text-align: right;\">\n",
       "      <th></th>\n",
       "      <th>children</th>\n",
       "      <th>days_employed</th>\n",
       "      <th>dob_years</th>\n",
       "      <th>education</th>\n",
       "      <th>education_id</th>\n",
       "      <th>family_status</th>\n",
       "      <th>family_status_id</th>\n",
       "      <th>gender</th>\n",
       "      <th>income_type</th>\n",
       "      <th>debt</th>\n",
       "      <th>total_income</th>\n",
       "      <th>purpose</th>\n",
       "      <th>total_income_category</th>\n",
       "    </tr>\n",
       "  </thead>\n",
       "  <tbody>\n",
       "    <tr>\n",
       "      <th>0</th>\n",
       "      <td>1</td>\n",
       "      <td>8437.673028</td>\n",
       "      <td>42</td>\n",
       "      <td>высшее</td>\n",
       "      <td>0</td>\n",
       "      <td>женат / замужем</td>\n",
       "      <td>0</td>\n",
       "      <td>F</td>\n",
       "      <td>сотрудник</td>\n",
       "      <td>0</td>\n",
       "      <td>253875</td>\n",
       "      <td>покупка жилья</td>\n",
       "      <td>B</td>\n",
       "    </tr>\n",
       "    <tr>\n",
       "      <th>1</th>\n",
       "      <td>1</td>\n",
       "      <td>4024.803754</td>\n",
       "      <td>36</td>\n",
       "      <td>среднее</td>\n",
       "      <td>1</td>\n",
       "      <td>женат / замужем</td>\n",
       "      <td>0</td>\n",
       "      <td>F</td>\n",
       "      <td>сотрудник</td>\n",
       "      <td>0</td>\n",
       "      <td>112080</td>\n",
       "      <td>приобретение автомобиля</td>\n",
       "      <td>C</td>\n",
       "    </tr>\n",
       "    <tr>\n",
       "      <th>2</th>\n",
       "      <td>0</td>\n",
       "      <td>5623.422610</td>\n",
       "      <td>33</td>\n",
       "      <td>среднее</td>\n",
       "      <td>1</td>\n",
       "      <td>женат / замужем</td>\n",
       "      <td>0</td>\n",
       "      <td>M</td>\n",
       "      <td>сотрудник</td>\n",
       "      <td>0</td>\n",
       "      <td>145885</td>\n",
       "      <td>покупка жилья</td>\n",
       "      <td>C</td>\n",
       "    </tr>\n",
       "    <tr>\n",
       "      <th>3</th>\n",
       "      <td>3</td>\n",
       "      <td>4124.747207</td>\n",
       "      <td>32</td>\n",
       "      <td>среднее</td>\n",
       "      <td>1</td>\n",
       "      <td>женат / замужем</td>\n",
       "      <td>0</td>\n",
       "      <td>M</td>\n",
       "      <td>сотрудник</td>\n",
       "      <td>0</td>\n",
       "      <td>267628</td>\n",
       "      <td>дополнительное образование</td>\n",
       "      <td>B</td>\n",
       "    </tr>\n",
       "    <tr>\n",
       "      <th>4</th>\n",
       "      <td>0</td>\n",
       "      <td>340266.072047</td>\n",
       "      <td>53</td>\n",
       "      <td>среднее</td>\n",
       "      <td>1</td>\n",
       "      <td>гражданский брак</td>\n",
       "      <td>1</td>\n",
       "      <td>F</td>\n",
       "      <td>пенсионер</td>\n",
       "      <td>0</td>\n",
       "      <td>158616</td>\n",
       "      <td>сыграть свадьбу</td>\n",
       "      <td>C</td>\n",
       "    </tr>\n",
       "    <tr>\n",
       "      <th>5</th>\n",
       "      <td>0</td>\n",
       "      <td>926.185831</td>\n",
       "      <td>27</td>\n",
       "      <td>высшее</td>\n",
       "      <td>0</td>\n",
       "      <td>гражданский брак</td>\n",
       "      <td>1</td>\n",
       "      <td>M</td>\n",
       "      <td>компаньон</td>\n",
       "      <td>0</td>\n",
       "      <td>255763</td>\n",
       "      <td>покупка жилья</td>\n",
       "      <td>B</td>\n",
       "    </tr>\n",
       "    <tr>\n",
       "      <th>6</th>\n",
       "      <td>0</td>\n",
       "      <td>2879.202052</td>\n",
       "      <td>43</td>\n",
       "      <td>высшее</td>\n",
       "      <td>0</td>\n",
       "      <td>женат / замужем</td>\n",
       "      <td>0</td>\n",
       "      <td>F</td>\n",
       "      <td>компаньон</td>\n",
       "      <td>0</td>\n",
       "      <td>240525</td>\n",
       "      <td>операции с жильем</td>\n",
       "      <td>B</td>\n",
       "    </tr>\n",
       "    <tr>\n",
       "      <th>7</th>\n",
       "      <td>0</td>\n",
       "      <td>152.779569</td>\n",
       "      <td>50</td>\n",
       "      <td>среднее</td>\n",
       "      <td>1</td>\n",
       "      <td>женат / замужем</td>\n",
       "      <td>0</td>\n",
       "      <td>M</td>\n",
       "      <td>сотрудник</td>\n",
       "      <td>0</td>\n",
       "      <td>135823</td>\n",
       "      <td>образование</td>\n",
       "      <td>C</td>\n",
       "    </tr>\n",
       "    <tr>\n",
       "      <th>8</th>\n",
       "      <td>2</td>\n",
       "      <td>6929.865299</td>\n",
       "      <td>35</td>\n",
       "      <td>высшее</td>\n",
       "      <td>0</td>\n",
       "      <td>гражданский брак</td>\n",
       "      <td>1</td>\n",
       "      <td>F</td>\n",
       "      <td>сотрудник</td>\n",
       "      <td>0</td>\n",
       "      <td>95856</td>\n",
       "      <td>на проведение свадьбы</td>\n",
       "      <td>C</td>\n",
       "    </tr>\n",
       "    <tr>\n",
       "      <th>9</th>\n",
       "      <td>0</td>\n",
       "      <td>2188.756445</td>\n",
       "      <td>41</td>\n",
       "      <td>среднее</td>\n",
       "      <td>1</td>\n",
       "      <td>женат / замужем</td>\n",
       "      <td>0</td>\n",
       "      <td>M</td>\n",
       "      <td>сотрудник</td>\n",
       "      <td>0</td>\n",
       "      <td>144425</td>\n",
       "      <td>покупка жилья для семьи</td>\n",
       "      <td>C</td>\n",
       "    </tr>\n",
       "  </tbody>\n",
       "</table>\n",
       "</div>"
      ],
      "text/plain": [
       "   children  days_employed  dob_years education  education_id  \\\n",
       "0         1    8437.673028         42    высшее             0   \n",
       "1         1    4024.803754         36   среднее             1   \n",
       "2         0    5623.422610         33   среднее             1   \n",
       "3         3    4124.747207         32   среднее             1   \n",
       "4         0  340266.072047         53   среднее             1   \n",
       "5         0     926.185831         27    высшее             0   \n",
       "6         0    2879.202052         43    высшее             0   \n",
       "7         0     152.779569         50   среднее             1   \n",
       "8         2    6929.865299         35    высшее             0   \n",
       "9         0    2188.756445         41   среднее             1   \n",
       "\n",
       "      family_status  family_status_id gender income_type  debt  total_income  \\\n",
       "0   женат / замужем                 0      F   сотрудник     0        253875   \n",
       "1   женат / замужем                 0      F   сотрудник     0        112080   \n",
       "2   женат / замужем                 0      M   сотрудник     0        145885   \n",
       "3   женат / замужем                 0      M   сотрудник     0        267628   \n",
       "4  гражданский брак                 1      F   пенсионер     0        158616   \n",
       "5  гражданский брак                 1      M   компаньон     0        255763   \n",
       "6   женат / замужем                 0      F   компаньон     0        240525   \n",
       "7   женат / замужем                 0      M   сотрудник     0        135823   \n",
       "8  гражданский брак                 1      F   сотрудник     0         95856   \n",
       "9   женат / замужем                 0      M   сотрудник     0        144425   \n",
       "\n",
       "                      purpose total_income_category  \n",
       "0               покупка жилья                     B  \n",
       "1     приобретение автомобиля                     C  \n",
       "2               покупка жилья                     C  \n",
       "3  дополнительное образование                     B  \n",
       "4             сыграть свадьбу                     C  \n",
       "5               покупка жилья                     B  \n",
       "6           операции с жильем                     B  \n",
       "7                 образование                     C  \n",
       "8       на проведение свадьбы                     C  \n",
       "9     покупка жилья для семьи                     C  "
      ]
     },
     "execution_count": 20,
     "metadata": {},
     "output_type": "execute_result"
    }
   ],
   "source": [
    "data.head(10)"
   ]
  },
  {
   "cell_type": "markdown",
   "id": "7987e74b",
   "metadata": {},
   "source": [
    "Появился новый столбец с категориями!"
   ]
  },
  {
   "cell_type": "markdown",
   "id": "6cd6a890",
   "metadata": {},
   "source": [
    "**Добавим еще один новый столбец, где клиенты будут разбиты на категории по причинам взятия кредита.\n",
    "Сначала посмотрим, какие причины бывают.**"
   ]
  },
  {
   "cell_type": "code",
   "execution_count": 21,
   "id": "caa1c13b",
   "metadata": {},
   "outputs": [
    {
     "data": {
      "text/plain": [
       "array(['покупка жилья', 'приобретение автомобиля',\n",
       "       'дополнительное образование', 'сыграть свадьбу',\n",
       "       'операции с жильем', 'образование', 'на проведение свадьбы',\n",
       "       'покупка жилья для семьи', 'покупка недвижимости',\n",
       "       'покупка коммерческой недвижимости', 'покупка жилой недвижимости',\n",
       "       'строительство собственной недвижимости', 'недвижимость',\n",
       "       'строительство недвижимости', 'на покупку подержанного автомобиля',\n",
       "       'на покупку своего автомобиля',\n",
       "       'операции с коммерческой недвижимостью',\n",
       "       'строительство жилой недвижимости', 'жилье',\n",
       "       'операции со своей недвижимостью', 'автомобили',\n",
       "       'заняться образованием', 'сделка с подержанным автомобилем',\n",
       "       'получение образования', 'автомобиль', 'свадьба',\n",
       "       'получение дополнительного образования', 'покупка своего жилья',\n",
       "       'операции с недвижимостью', 'получение высшего образования',\n",
       "       'свой автомобиль', 'сделка с автомобилем',\n",
       "       'профильное образование', 'высшее образование',\n",
       "       'покупка жилья для сдачи', 'на покупку автомобиля', 'ремонт жилью',\n",
       "       'заняться высшим образованием'], dtype=object)"
      ]
     },
     "execution_count": 21,
     "metadata": {},
     "output_type": "execute_result"
    }
   ],
   "source": [
    "data['purpose'].unique()"
   ]
  },
  {
   "cell_type": "markdown",
   "id": "9ca4160d",
   "metadata": {},
   "source": [
    "**Как много всего, но если присмотреться, причин всего 4:**\n",
    "- `'операции с автомобилем'`,\n",
    "- `'операции с недвижимостью'`,\n",
    "- `'проведение свадьбы'`,\n",
    "- `'получение образования'`.\n",
    "\n",
    "**Создадим новый стобец с этими категориями**"
   ]
  },
  {
   "cell_type": "code",
   "execution_count": 22,
   "id": "b8605de8",
   "metadata": {},
   "outputs": [],
   "source": [
    "def categorize_purpose(i):\n",
    "    if ('жил' in i) or ('недвиж' in i):\n",
    "        return 'операции с недвижимостью'\n",
    "    elif 'авт' in i:\n",
    "        return 'операции с автомобилем'\n",
    "    elif 'свад' in i:\n",
    "        return 'проведение свадьбы'\n",
    "    else:\n",
    "        return 'получение образования'"
   ]
  },
  {
   "cell_type": "code",
   "execution_count": 23,
   "id": "ea46d93f",
   "metadata": {},
   "outputs": [],
   "source": [
    "data['purpose_category'] = data['purpose'].apply(categorize_purpose)"
   ]
  },
  {
   "cell_type": "code",
   "execution_count": 24,
   "id": "665d6aec",
   "metadata": {},
   "outputs": [
    {
     "data": {
      "text/html": [
       "<div>\n",
       "<style scoped>\n",
       "    .dataframe tbody tr th:only-of-type {\n",
       "        vertical-align: middle;\n",
       "    }\n",
       "\n",
       "    .dataframe tbody tr th {\n",
       "        vertical-align: top;\n",
       "    }\n",
       "\n",
       "    .dataframe thead th {\n",
       "        text-align: right;\n",
       "    }\n",
       "</style>\n",
       "<table border=\"1\" class=\"dataframe\">\n",
       "  <thead>\n",
       "    <tr style=\"text-align: right;\">\n",
       "      <th></th>\n",
       "      <th>children</th>\n",
       "      <th>days_employed</th>\n",
       "      <th>dob_years</th>\n",
       "      <th>education</th>\n",
       "      <th>education_id</th>\n",
       "      <th>family_status</th>\n",
       "      <th>family_status_id</th>\n",
       "      <th>gender</th>\n",
       "      <th>income_type</th>\n",
       "      <th>debt</th>\n",
       "      <th>total_income</th>\n",
       "      <th>purpose</th>\n",
       "      <th>total_income_category</th>\n",
       "      <th>purpose_category</th>\n",
       "    </tr>\n",
       "  </thead>\n",
       "  <tbody>\n",
       "    <tr>\n",
       "      <th>0</th>\n",
       "      <td>1</td>\n",
       "      <td>8437.673028</td>\n",
       "      <td>42</td>\n",
       "      <td>высшее</td>\n",
       "      <td>0</td>\n",
       "      <td>женат / замужем</td>\n",
       "      <td>0</td>\n",
       "      <td>F</td>\n",
       "      <td>сотрудник</td>\n",
       "      <td>0</td>\n",
       "      <td>253875</td>\n",
       "      <td>покупка жилья</td>\n",
       "      <td>B</td>\n",
       "      <td>операции с недвижимостью</td>\n",
       "    </tr>\n",
       "    <tr>\n",
       "      <th>1</th>\n",
       "      <td>1</td>\n",
       "      <td>4024.803754</td>\n",
       "      <td>36</td>\n",
       "      <td>среднее</td>\n",
       "      <td>1</td>\n",
       "      <td>женат / замужем</td>\n",
       "      <td>0</td>\n",
       "      <td>F</td>\n",
       "      <td>сотрудник</td>\n",
       "      <td>0</td>\n",
       "      <td>112080</td>\n",
       "      <td>приобретение автомобиля</td>\n",
       "      <td>C</td>\n",
       "      <td>операции с автомобилем</td>\n",
       "    </tr>\n",
       "    <tr>\n",
       "      <th>2</th>\n",
       "      <td>0</td>\n",
       "      <td>5623.422610</td>\n",
       "      <td>33</td>\n",
       "      <td>среднее</td>\n",
       "      <td>1</td>\n",
       "      <td>женат / замужем</td>\n",
       "      <td>0</td>\n",
       "      <td>M</td>\n",
       "      <td>сотрудник</td>\n",
       "      <td>0</td>\n",
       "      <td>145885</td>\n",
       "      <td>покупка жилья</td>\n",
       "      <td>C</td>\n",
       "      <td>операции с недвижимостью</td>\n",
       "    </tr>\n",
       "    <tr>\n",
       "      <th>3</th>\n",
       "      <td>3</td>\n",
       "      <td>4124.747207</td>\n",
       "      <td>32</td>\n",
       "      <td>среднее</td>\n",
       "      <td>1</td>\n",
       "      <td>женат / замужем</td>\n",
       "      <td>0</td>\n",
       "      <td>M</td>\n",
       "      <td>сотрудник</td>\n",
       "      <td>0</td>\n",
       "      <td>267628</td>\n",
       "      <td>дополнительное образование</td>\n",
       "      <td>B</td>\n",
       "      <td>получение образования</td>\n",
       "    </tr>\n",
       "    <tr>\n",
       "      <th>4</th>\n",
       "      <td>0</td>\n",
       "      <td>340266.072047</td>\n",
       "      <td>53</td>\n",
       "      <td>среднее</td>\n",
       "      <td>1</td>\n",
       "      <td>гражданский брак</td>\n",
       "      <td>1</td>\n",
       "      <td>F</td>\n",
       "      <td>пенсионер</td>\n",
       "      <td>0</td>\n",
       "      <td>158616</td>\n",
       "      <td>сыграть свадьбу</td>\n",
       "      <td>C</td>\n",
       "      <td>проведение свадьбы</td>\n",
       "    </tr>\n",
       "    <tr>\n",
       "      <th>5</th>\n",
       "      <td>0</td>\n",
       "      <td>926.185831</td>\n",
       "      <td>27</td>\n",
       "      <td>высшее</td>\n",
       "      <td>0</td>\n",
       "      <td>гражданский брак</td>\n",
       "      <td>1</td>\n",
       "      <td>M</td>\n",
       "      <td>компаньон</td>\n",
       "      <td>0</td>\n",
       "      <td>255763</td>\n",
       "      <td>покупка жилья</td>\n",
       "      <td>B</td>\n",
       "      <td>операции с недвижимостью</td>\n",
       "    </tr>\n",
       "    <tr>\n",
       "      <th>6</th>\n",
       "      <td>0</td>\n",
       "      <td>2879.202052</td>\n",
       "      <td>43</td>\n",
       "      <td>высшее</td>\n",
       "      <td>0</td>\n",
       "      <td>женат / замужем</td>\n",
       "      <td>0</td>\n",
       "      <td>F</td>\n",
       "      <td>компаньон</td>\n",
       "      <td>0</td>\n",
       "      <td>240525</td>\n",
       "      <td>операции с жильем</td>\n",
       "      <td>B</td>\n",
       "      <td>операции с недвижимостью</td>\n",
       "    </tr>\n",
       "    <tr>\n",
       "      <th>7</th>\n",
       "      <td>0</td>\n",
       "      <td>152.779569</td>\n",
       "      <td>50</td>\n",
       "      <td>среднее</td>\n",
       "      <td>1</td>\n",
       "      <td>женат / замужем</td>\n",
       "      <td>0</td>\n",
       "      <td>M</td>\n",
       "      <td>сотрудник</td>\n",
       "      <td>0</td>\n",
       "      <td>135823</td>\n",
       "      <td>образование</td>\n",
       "      <td>C</td>\n",
       "      <td>получение образования</td>\n",
       "    </tr>\n",
       "    <tr>\n",
       "      <th>8</th>\n",
       "      <td>2</td>\n",
       "      <td>6929.865299</td>\n",
       "      <td>35</td>\n",
       "      <td>высшее</td>\n",
       "      <td>0</td>\n",
       "      <td>гражданский брак</td>\n",
       "      <td>1</td>\n",
       "      <td>F</td>\n",
       "      <td>сотрудник</td>\n",
       "      <td>0</td>\n",
       "      <td>95856</td>\n",
       "      <td>на проведение свадьбы</td>\n",
       "      <td>C</td>\n",
       "      <td>проведение свадьбы</td>\n",
       "    </tr>\n",
       "    <tr>\n",
       "      <th>9</th>\n",
       "      <td>0</td>\n",
       "      <td>2188.756445</td>\n",
       "      <td>41</td>\n",
       "      <td>среднее</td>\n",
       "      <td>1</td>\n",
       "      <td>женат / замужем</td>\n",
       "      <td>0</td>\n",
       "      <td>M</td>\n",
       "      <td>сотрудник</td>\n",
       "      <td>0</td>\n",
       "      <td>144425</td>\n",
       "      <td>покупка жилья для семьи</td>\n",
       "      <td>C</td>\n",
       "      <td>операции с недвижимостью</td>\n",
       "    </tr>\n",
       "  </tbody>\n",
       "</table>\n",
       "</div>"
      ],
      "text/plain": [
       "   children  days_employed  dob_years education  education_id  \\\n",
       "0         1    8437.673028         42    высшее             0   \n",
       "1         1    4024.803754         36   среднее             1   \n",
       "2         0    5623.422610         33   среднее             1   \n",
       "3         3    4124.747207         32   среднее             1   \n",
       "4         0  340266.072047         53   среднее             1   \n",
       "5         0     926.185831         27    высшее             0   \n",
       "6         0    2879.202052         43    высшее             0   \n",
       "7         0     152.779569         50   среднее             1   \n",
       "8         2    6929.865299         35    высшее             0   \n",
       "9         0    2188.756445         41   среднее             1   \n",
       "\n",
       "      family_status  family_status_id gender income_type  debt  total_income  \\\n",
       "0   женат / замужем                 0      F   сотрудник     0        253875   \n",
       "1   женат / замужем                 0      F   сотрудник     0        112080   \n",
       "2   женат / замужем                 0      M   сотрудник     0        145885   \n",
       "3   женат / замужем                 0      M   сотрудник     0        267628   \n",
       "4  гражданский брак                 1      F   пенсионер     0        158616   \n",
       "5  гражданский брак                 1      M   компаньон     0        255763   \n",
       "6   женат / замужем                 0      F   компаньон     0        240525   \n",
       "7   женат / замужем                 0      M   сотрудник     0        135823   \n",
       "8  гражданский брак                 1      F   сотрудник     0         95856   \n",
       "9   женат / замужем                 0      M   сотрудник     0        144425   \n",
       "\n",
       "                      purpose total_income_category          purpose_category  \n",
       "0               покупка жилья                     B  операции с недвижимостью  \n",
       "1     приобретение автомобиля                     C    операции с автомобилем  \n",
       "2               покупка жилья                     C  операции с недвижимостью  \n",
       "3  дополнительное образование                     B     получение образования  \n",
       "4             сыграть свадьбу                     C        проведение свадьбы  \n",
       "5               покупка жилья                     B  операции с недвижимостью  \n",
       "6           операции с жильем                     B  операции с недвижимостью  \n",
       "7                 образование                     C     получение образования  \n",
       "8       на проведение свадьбы                     C        проведение свадьбы  \n",
       "9     покупка жилья для семьи                     C  операции с недвижимостью  "
      ]
     },
     "execution_count": 24,
     "metadata": {},
     "output_type": "execute_result"
    }
   ],
   "source": [
    "data.head(10)"
   ]
  },
  {
   "cell_type": "markdown",
   "id": "91c39426",
   "metadata": {},
   "source": [
    "Новый столбец добавлен."
   ]
  },
  {
   "cell_type": "markdown",
   "id": "81deebb1",
   "metadata": {},
   "source": [
    "## Есть ли зависимость между количеством детей и возвратом кредита в срок?\n",
    "\n",
    "\n",
    "**Основываясь на данных, что нам предоставили, мы можем проверить следующую гипотезу:**\n",
    "\n",
    "***Количество детей влияет на возврат кредита в срок***\n",
    "\n",
    "Если гипотеза подтвердится, зачит зависимость между количеством детей и возвратом кредита в срок есть, если не подтвердится, нет."
   ]
  },
  {
   "cell_type": "markdown",
   "id": "e371d925",
   "metadata": {},
   "source": [
    "**Создана сводная таблица `children_count`, в которой есть следующие столбцы: `children` - количество детей и  `debt`, где *0* означает, что долгов по кредиту нет и *1*, если есть. Сама таблица заполнена количеством клиентов по каждому из столбцов.**\n",
    "\n",
    "Построена диаграмма, где по вертикальной оси указано количество клиентов, по горизонтальной оси указано количество детей и цветом различаются значения столбца `debt`, синий цвет - **0**, если у клиента не было задолженностей по кредитам и оранжевый - **1**, если были."
   ]
  },
  {
   "cell_type": "code",
   "execution_count": 31,
   "id": "a8699aeb",
   "metadata": {},
   "outputs": [
    {
     "data": {
      "image/png": "[encoded data removed]",
      "text/plain": [
       "<Figure size 640x480 with 1 Axes>"
      ]
     },
     "metadata": {},
     "output_type": "display_data"
    }
   ],
   "source": [
    "children_count = pd.pivot_table(data, index=['children', 'debt'], values=['gender'], aggfunc={'gender': len}, fill_value=0).reset_index()\n",
    "a = seaborn.barplot(x=children_count['children'], y=children_count['gender'], hue=children_count['debt'])\n",
    "a.set_title('Зависимость между количеством детей клиента и возвратом кредита в срок')\n",
    "\n",
    "for i in a.containers:\n",
    "    a.bar_label(i,)"
   ]
  },
  {
   "cell_type": "markdown",
   "id": "c5c244db",
   "metadata": {},
   "source": [
    "**Посчитаем процент клиентов с долгами по каждому количеству детей.**"
   ]
  },
  {
   "cell_type": "markdown",
   "id": "f372232d",
   "metadata": {},
   "source": [
    "Процент клиентов без детей, имеющих задолженность"
   ]
  },
  {
   "cell_type": "code",
   "execution_count": 28,
   "id": "55123cbf",
   "metadata": {},
   "outputs": [
    {
     "name": "stdout",
     "output_type": "stream",
     "text": [
      "8%\n"
     ]
    }
   ],
   "source": [
    "percent_without_children = children_count.loc[1,'gender']/children_count.loc[0,'gender']\n",
    "print(f'{percent_without_children:.0%}') "
   ]
  },
  {
   "cell_type": "markdown",
   "id": "a20f981e",
   "metadata": {},
   "source": [
    "Процент клиентов с 1 ребенком, имеющих задолженность"
   ]
  },
  {
   "cell_type": "code",
   "execution_count": 29,
   "id": "2ac71bb5",
   "metadata": {},
   "outputs": [
    {
     "name": "stdout",
     "output_type": "stream",
     "text": [
      "10%\n"
     ]
    }
   ],
   "source": [
    "percent_with_one_child = children_count.loc[3,'gender']/children_count.loc[2,'gender']\n",
    "print(f'{percent_with_one_child:.0%}') "
   ]
  },
  {
   "cell_type": "markdown",
   "id": "890d3d45",
   "metadata": {},
   "source": [
    "Процент клиентов с 2 детьми, имеющих задолженность"
   ]
  },
  {
   "cell_type": "code",
   "execution_count": 30,
   "id": "82a24f2b",
   "metadata": {},
   "outputs": [
    {
     "name": "stdout",
     "output_type": "stream",
     "text": [
      "10%\n"
     ]
    }
   ],
   "source": [
    "percent_with_two_children = children_count.loc[5,'gender']/children_count.loc[4,'gender']\n",
    "print(f'{percent_with_two_children:.0%}') "
   ]
  },
  {
   "cell_type": "markdown",
   "id": "98b386bd",
   "metadata": {},
   "source": [
    "Считать процент должников с 3, 4 и 5 детьми нецелесообразно, так как общее количество таких клиентов крайне малО по сравнению с остальными."
   ]
  },
  {
   "cell_type": "markdown",
   "id": "ac917b2a",
   "metadata": {},
   "source": [
    "**Вывод: Для того, чтобы окончательно подтвердить гипотезу, необходимы дополнительные данные. Количество многодетных клиентов очень малО, например, клиентов, имеющих 5 детей всего *9*. По данной диаграмме можно сделать следующие выводы:**\n",
    "- чаще всего берут кредит клиенты без детей;\n",
    "- 8% должников среди клиентов, не имеющих детей;\n",
    "- 10% должников среди клиентов с 1 ребенком;\n",
    "- 10% должников среди клиентов с 2 детьми."
   ]
  },
  {
   "cell_type": "markdown",
   "id": "36f1fafb",
   "metadata": {},
   "source": [
    "## Есть ли зависимость между семейным положением и возвратом кредита в срок?"
   ]
  },
  {
   "cell_type": "markdown",
   "id": "e6324fc0",
   "metadata": {},
   "source": [
    "Для ответа на этот вопрос проверим следующую гипотезу:\n",
    "\n",
    "***Семейное положение клиента влияет на возврат кредита в срок***\n",
    "\n",
    "Если данная гипотеза подтвердится, то зависимость между семейным положением и возвратом кредита в срок есть, если не подтвердится, то нет.\n",
    "\n",
    "**Создана сводная таблица `family_count`, в которой есть следующие столбцы: `family_status` - семейное положение и `debt`, где 0 означает, что долгов по кредиту нет и 1, если есть. Сама таблица заполнена количеством клиентов по каждому из столбцов.**\n",
    "\n",
    "Построена диаграмма, где по вертикальной оси указано количество клиентов, по горизонтальной оси указано семейное положение и цветом различаются значения столбца debt, синий цвет - 0, если у клиента не было задолженностей по кредитам и оранжевый - 1, если были."
   ]
  },
  {
   "cell_type": "code",
   "execution_count": 33,
   "id": "dd4c2c33",
   "metadata": {},
   "outputs": [
    {
     "data": {
      "image/png": "[encoded data removed]",
      "text/plain": [
       "<Figure size 640x480 with 1 Axes>"
      ]
     },
     "metadata": {},
     "output_type": "display_data"
    }
   ],
   "source": [
    "import matplotlib.pyplot as plt\n",
    "family_count = pd.pivot_table(data, index=['family_status', 'debt'], values=['gender'], aggfunc={'gender': len}, fill_value=0).reset_index()\n",
    "b = seaborn.barplot(x=family_count['family_status'], y=family_count['gender'], hue=family_count['debt'])\n",
    "b.set_title('Зависимость между семейным положением клиента и возвратом кредита в срок')\n",
    "b.set_xticklabels(b.get_xticklabels(),rotation = 90)\n",
    "for i in b.containers:\n",
    "    b.bar_label(i,)"
   ]
  },
  {
   "cell_type": "markdown",
   "id": "d5fba8e4",
   "metadata": {},
   "source": [
    "**Посчитаем процент клиентов с долгами по каждому семейному положению.**"
   ]
  },
  {
   "cell_type": "code",
   "execution_count": 34,
   "id": "4f1cb5b8",
   "metadata": {},
   "outputs": [
    {
     "name": "stdout",
     "output_type": "stream",
     "text": [
      "Процент должников со статусом не женат/не замужем:  11%\n",
      "Процент должников со статусом в разводе:  8%\n",
      "Процент должников со статусом вдовец/вдова:  7%\n",
      "Процент должников со статусом гражданский брак:  10%\n",
      "Процент должников со статусом женат/замужем:  8%\n"
     ]
    }
   ],
   "source": [
    "percent_no_married = family_count.loc[1,'gender']/family_count.loc[0,'gender']\n",
    "percent_divorce = family_count.loc[3,'gender']/family_count.loc[2,'gender']\n",
    "percent_widow = family_count.loc[5,'gender']/family_count.loc[4,'gender']\n",
    "percent_civil = family_count.loc[7,'gender']/family_count.loc[6,'gender']\n",
    "percent_married = family_count.loc[9,'gender']/family_count.loc[8,'gender']\n",
    "print('Процент должников со статусом не женат/не замужем: ', f'{percent_no_married:.0%}')\n",
    "print('Процент должников со статусом в разводе: ', f'{percent_divorce:.0%}') \n",
    "print('Процент должников со статусом вдовец/вдова: ', f'{percent_widow:.0%}') \n",
    "print('Процент должников со статусом гражданский брак: ', f'{percent_civil:.0%}')\n",
    "print('Процент должников со статусом женат/замужем: ', f'{percent_married:.0%}')"
   ]
  },
  {
   "cell_type": "markdown",
   "id": "e1473223",
   "metadata": {},
   "source": [
    "**Вывод: Зависимость между семейным положением и возвратом кредита есть. Чаще всего являются должниками клиенты со статусом: *не женат/не замужем* и *гражданский брак*. Реже всего имеют долги клиенты с семейным положением: *вдовец/вдова*.**\n",
    "\n",
    "**Общая статистика:**\n",
    "- Чаще всего кредит берут клиенты со статусом: женат/замужем; \n",
    "- 7% должников со статусом вдовец/вдова;\n",
    "- 8% должников со статусом в разводе;\n",
    "- 8% должников со статусом женат/замужем;\n",
    "- 10% должников со статусом гражданский брак;\n",
    "- 11% должников со статусом не женат/не замужем."
   ]
  },
  {
   "cell_type": "markdown",
   "id": "b648155e",
   "metadata": {},
   "source": [
    "## Есть ли зависимость между уровнем дохода и возвратом кредита в срок?"
   ]
  },
  {
   "cell_type": "markdown",
   "id": "e419d2d5",
   "metadata": {},
   "source": [
    "Чтобы ответить на данный вопрос проверим следующую гипотезу:\n",
    "\n",
    "***От уровня дохода зависит возврат кредита в срок***"
   ]
  },
  {
   "cell_type": "markdown",
   "id": "c5a2d61f",
   "metadata": {},
   "source": [
    "Если данная гипотеза подтвердится, то зависимость между уровнем дохода и возвратом кредита в срок есть, если опровергнется, то нет."
   ]
  },
  {
   "cell_type": "markdown",
   "id": "dff01aed",
   "metadata": {},
   "source": [
    "**Ранее в проекте были созданы категории по уровню дохода клиентов, используем их сейчас.**\n",
    "\n",
    "**Создана сводная таблица `income_count`, в которой есть следующие столбцы: `total_income_category` - категория дохода клиента и `debt`, где 0 означает, что долгов по кредиту нет и 1, если есть. Сама таблица заполнена количеством клиентов по каждому из столбцов.**\n",
    "\n",
    "Построена диаграмма, где по вертикальной оси указано количество клиентов, по горизонтальной оси указано категория дохода и цветом различаются значения столбца debt, синий цвет - 0, если у клиента не было задолженностей по кредитам и оранжевый - 1, если были."
   ]
  },
  {
   "cell_type": "code",
   "execution_count": 35,
   "id": "9050a6ad",
   "metadata": {},
   "outputs": [
    {
     "data": {
      "text/html": [
       "<div>\n",
       "<style scoped>\n",
       "    .dataframe tbody tr th:only-of-type {\n",
       "        vertical-align: middle;\n",
       "    }\n",
       "\n",
       "    .dataframe tbody tr th {\n",
       "        vertical-align: top;\n",
       "    }\n",
       "\n",
       "    .dataframe thead th {\n",
       "        text-align: right;\n",
       "    }\n",
       "</style>\n",
       "<table border=\"1\" class=\"dataframe\">\n",
       "  <thead>\n",
       "    <tr style=\"text-align: right;\">\n",
       "      <th></th>\n",
       "      <th>total_income_category</th>\n",
       "      <th>debt</th>\n",
       "      <th>gender</th>\n",
       "    </tr>\n",
       "  </thead>\n",
       "  <tbody>\n",
       "    <tr>\n",
       "      <th>0</th>\n",
       "      <td>A</td>\n",
       "      <td>0</td>\n",
       "      <td>23</td>\n",
       "    </tr>\n",
       "    <tr>\n",
       "      <th>1</th>\n",
       "      <td>A</td>\n",
       "      <td>1</td>\n",
       "      <td>2</td>\n",
       "    </tr>\n",
       "    <tr>\n",
       "      <th>2</th>\n",
       "      <td>B</td>\n",
       "      <td>0</td>\n",
       "      <td>4660</td>\n",
       "    </tr>\n",
       "    <tr>\n",
       "      <th>3</th>\n",
       "      <td>B</td>\n",
       "      <td>1</td>\n",
       "      <td>354</td>\n",
       "    </tr>\n",
       "    <tr>\n",
       "      <th>4</th>\n",
       "      <td>C</td>\n",
       "      <td>0</td>\n",
       "      <td>14568</td>\n",
       "    </tr>\n",
       "    <tr>\n",
       "      <th>5</th>\n",
       "      <td>C</td>\n",
       "      <td>1</td>\n",
       "      <td>1353</td>\n",
       "    </tr>\n",
       "    <tr>\n",
       "      <th>6</th>\n",
       "      <td>D</td>\n",
       "      <td>0</td>\n",
       "      <td>328</td>\n",
       "    </tr>\n",
       "    <tr>\n",
       "      <th>7</th>\n",
       "      <td>D</td>\n",
       "      <td>1</td>\n",
       "      <td>21</td>\n",
       "    </tr>\n",
       "    <tr>\n",
       "      <th>8</th>\n",
       "      <td>E</td>\n",
       "      <td>0</td>\n",
       "      <td>20</td>\n",
       "    </tr>\n",
       "    <tr>\n",
       "      <th>9</th>\n",
       "      <td>E</td>\n",
       "      <td>1</td>\n",
       "      <td>2</td>\n",
       "    </tr>\n",
       "  </tbody>\n",
       "</table>\n",
       "</div>"
      ],
      "text/plain": [
       "  total_income_category  debt  gender\n",
       "0                     A     0      23\n",
       "1                     A     1       2\n",
       "2                     B     0    4660\n",
       "3                     B     1     354\n",
       "4                     C     0   14568\n",
       "5                     C     1    1353\n",
       "6                     D     0     328\n",
       "7                     D     1      21\n",
       "8                     E     0      20\n",
       "9                     E     1       2"
      ]
     },
     "execution_count": 35,
     "metadata": {},
     "output_type": "execute_result"
    }
   ],
   "source": [
    "pd.pivot_table(data, index=['total_income_category', 'debt'], values=['gender'], aggfunc={'gender': len}, fill_value=0).reset_index()"
   ]
  },
  {
   "cell_type": "code",
   "execution_count": 37,
   "id": "d8a3ae38",
   "metadata": {},
   "outputs": [
    {
     "data": {
      "image/png": "[encoded data removed]",
      "text/plain": [
       "<Figure size 640x480 with 1 Axes>"
      ]
     },
     "metadata": {},
     "output_type": "display_data"
    }
   ],
   "source": [
    "income_count = pd.pivot_table(data, index=['total_income_category', 'debt'], values=['gender'], aggfunc={'gender': len}, fill_value=0).reset_index()\n",
    "income_count\n",
    "c = seaborn.barplot(x=income_count['total_income_category'], y=income_count['gender'], hue=income_count['debt'])\n",
    "c.set_title('Зависимость между уровнем дохода клиента и возвратом кредита в срок')\n",
    "for i in c.containers:\n",
    "    c.bar_label(i,)"
   ]
  },
  {
   "cell_type": "markdown",
   "id": "d945a548",
   "metadata": {},
   "source": [
    "**Посчитаем процент клиентов с долгами по каждой категории дохода.**"
   ]
  },
  {
   "cell_type": "code",
   "execution_count": 38,
   "id": "39556cbc",
   "metadata": {},
   "outputs": [
    {
     "name": "stdout",
     "output_type": "stream",
     "text": [
      "Процент должников с доходом от 200001 до 1000000:  8%\n",
      "Процент должников с доходом от 50001 до 200000:  9%\n"
     ]
    }
   ],
   "source": [
    "percent_B = income_count.loc[3,'gender']/income_count.loc[2,'gender']\n",
    "percent_C = income_count.loc[5,'gender']/income_count.loc[4,'gender']\n",
    "print('Процент должников с доходом от 200001 до 1000000: ', f'{percent_B:.0%}')\n",
    "print('Процент должников с доходом от 50001 до 200000: ', f'{percent_C:.0%}')"
   ]
  },
  {
   "cell_type": "markdown",
   "id": "46a341d5",
   "metadata": {},
   "source": [
    "Считать процент должников с доходом категорий: А, D, E нецелесообразно, так как общее количество таких клиентов крайне малО по сравнению с остальными.\n"
   ]
  },
  {
   "cell_type": "markdown",
   "id": "d28de999",
   "metadata": {},
   "source": [
    "**Вывод: Для того, чтобы окончательно подтвердить гипотезу, необходимы дополнительные данные. Количество клиентов с доходом категорий: А, D, E очень малО, например, клиентов, имеющих доход от 0 до 30000 детей всего 12. По данной диаграмме можно сделать следующие выводы:**\n",
    "- 8% должников с доходом от 200001 до 1000000\n",
    "- 9% должников с доходом от 50001 до 200000\n",
    "\n",
    "**От количества дохода зависит возврат кредита в срок, но для конечного подтверждения необходимы дополнительные данные**"
   ]
  },
  {
   "cell_type": "markdown",
   "id": "06cef601",
   "metadata": {},
   "source": [
    "## Как разные цели кредита влияют на его возврат в срок?"
   ]
  },
  {
   "cell_type": "markdown",
   "id": "daab6686",
   "metadata": {},
   "source": [
    "**Для того, чтобы ответить на этот вопрос, была создана сводная таблица `purpose_count`, в которой есть следующие столбцы: `pupose_category` - причина получения кредита и `debt`, где 0 означает, что долгов по кредиту нет и 1, если есть. Сама таблица заполнена количеством клиентов по каждому из столбцов.**\n",
    "\n",
    "Построена диаграмма, где по вертикальной оси указано количество клиентов, по горизонтальной оси указана причина получения кредита и цветом различаются значения столбца debt, синий цвет - 0, если у клиента не было задолженностей по кредитам и оранжевый - 1, если были.**"
   ]
  },
  {
   "cell_type": "code",
   "execution_count": 40,
   "id": "a954aef8",
   "metadata": {},
   "outputs": [
    {
     "data": {
      "image/png": "[encoded data removed]",
      "text/plain": [
       "<Figure size 640x480 with 1 Axes>"
      ]
     },
     "metadata": {},
     "output_type": "display_data"
    }
   ],
   "source": [
    "purpose_count = pd.pivot_table(data, index=['purpose_category', 'debt'], values=['gender'], aggfunc={'gender': len}, fill_value=0).reset_index()\n",
    "purpose_count\n",
    "d = seaborn.barplot(x=purpose_count['purpose_category'], y=purpose_count['gender'], hue=purpose_count['debt'])\n",
    "d.set_title('Зависимость между целью кредита клиента и возратом кредита в срок')\n",
    "d.set_xticklabels(d.get_xticklabels(),rotation = 90)\n",
    "for i in d.containers:\n",
    "    d.bar_label(i,)\n",
    "    "
   ]
  },
  {
   "cell_type": "markdown",
   "id": "128ca3aa",
   "metadata": {},
   "source": [
    "**Посчитаем процент клиентов с долгами по каждой причине получения кредита.**"
   ]
  },
  {
   "cell_type": "code",
   "execution_count": 41,
   "id": "723e300b",
   "metadata": {},
   "outputs": [
    {
     "name": "stdout",
     "output_type": "stream",
     "text": [
      "Процент должников, которые приобрели кредит для операций с автомобилем:  10%\n",
      "Процент должников, которые приобрели кредит для операций с недвижимостью:  8%\n",
      "Процент должников, которые приобрели кредит для получения образования:  10%\n",
      "Процент должников, которые приобрели кредит для проведения свадьбы:  9%\n"
     ]
    }
   ],
   "source": [
    "percent_auto = purpose_count.loc[1,'gender']/purpose_count.loc[0,'gender']\n",
    "percent_house = purpose_count.loc[3,'gender']/purpose_count.loc[2,'gender']\n",
    "percent_educ = purpose_count.loc[5,'gender']/purpose_count.loc[4,'gender']\n",
    "percent_marri = purpose_count.loc[7,'gender']/purpose_count.loc[6,'gender']\n",
    "print('Процент должников, которые приобрели кредит для операций с автомобилем: ', f'{percent_auto:.0%}')\n",
    "print('Процент должников, которые приобрели кредит для операций с недвижимостью: ', f'{percent_house:.0%}') \n",
    "print('Процент должников, которые приобрели кредит для получения образования: ', f'{percent_educ:.0%}') \n",
    "print('Процент должников, которые приобрели кредит для проведения свадьбы: ', f'{percent_marri:.0%}')"
   ]
  },
  {
   "cell_type": "markdown",
   "id": "2017e9ec",
   "metadata": {},
   "source": [
    "**Вывод: Меньше всего долгов имеют клиенты, берущие кредит для операций с недвижимостью. Меньше стоит доверять клиентам, берущим кредит на получение образования и для операций с автомобилем**\n",
    "- Чаще всего берут кредит для операций с недвижимостью, они же реже остальных имеют долги;\n",
    "- 8% должников, которые приобрели кредит для операций с недвижимостью;\n",
    "- 9% должников, которые приобрели кредит для проведения свадьбы;\n",
    "- 10% должников, которые приобрели кредит для операций с автомобилем;\n",
    "- 10% должников, которые приобрели кредит для получения образования."
   ]
  },
  {
   "cell_type": "markdown",
   "id": "a4eb1c53",
   "metadata": {},
   "source": [
    "## Приведите возможные причины появления пропусков в исходных данных."
   ]
  },
  {
   "cell_type": "markdown",
   "id": "563b88f5",
   "metadata": {},
   "source": [
    "**Существуют две глобальные причины:**\n",
    "- человеческий фактор\n",
    "- технический сбой"
   ]
  },
  {
   "cell_type": "markdown",
   "id": "69f2de7b",
   "metadata": {},
   "source": [
    "**В переданных нам данных мы нашли пропуски в стобцах `days_employed` - колчество отработанных дней и`total_income` - заработок.**\n",
    "\n",
    "Откроем исходную таблицу и посмотрим на строки с пропусками"
   ]
  },
  {
   "cell_type": "code",
   "execution_count": 42,
   "id": "847791c3",
   "metadata": {},
   "outputs": [
    {
     "data": {
      "text/html": [
       "<div>\n",
       "<style scoped>\n",
       "    .dataframe tbody tr th:only-of-type {\n",
       "        vertical-align: middle;\n",
       "    }\n",
       "\n",
       "    .dataframe tbody tr th {\n",
       "        vertical-align: top;\n",
       "    }\n",
       "\n",
       "    .dataframe thead th {\n",
       "        text-align: right;\n",
       "    }\n",
       "</style>\n",
       "<table border=\"1\" class=\"dataframe\">\n",
       "  <thead>\n",
       "    <tr style=\"text-align: right;\">\n",
       "      <th></th>\n",
       "      <th>children</th>\n",
       "      <th>days_employed</th>\n",
       "      <th>dob_years</th>\n",
       "      <th>education</th>\n",
       "      <th>education_id</th>\n",
       "      <th>family_status</th>\n",
       "      <th>family_status_id</th>\n",
       "      <th>gender</th>\n",
       "      <th>income_type</th>\n",
       "      <th>debt</th>\n",
       "      <th>total_income</th>\n",
       "      <th>purpose</th>\n",
       "    </tr>\n",
       "  </thead>\n",
       "  <tbody>\n",
       "    <tr>\n",
       "      <th>12</th>\n",
       "      <td>0</td>\n",
       "      <td>NaN</td>\n",
       "      <td>65</td>\n",
       "      <td>среднее</td>\n",
       "      <td>1</td>\n",
       "      <td>гражданский брак</td>\n",
       "      <td>1</td>\n",
       "      <td>M</td>\n",
       "      <td>пенсионер</td>\n",
       "      <td>0</td>\n",
       "      <td>NaN</td>\n",
       "      <td>сыграть свадьбу</td>\n",
       "    </tr>\n",
       "    <tr>\n",
       "      <th>26</th>\n",
       "      <td>0</td>\n",
       "      <td>NaN</td>\n",
       "      <td>41</td>\n",
       "      <td>среднее</td>\n",
       "      <td>1</td>\n",
       "      <td>женат / замужем</td>\n",
       "      <td>0</td>\n",
       "      <td>M</td>\n",
       "      <td>госслужащий</td>\n",
       "      <td>0</td>\n",
       "      <td>NaN</td>\n",
       "      <td>образование</td>\n",
       "    </tr>\n",
       "    <tr>\n",
       "      <th>29</th>\n",
       "      <td>0</td>\n",
       "      <td>NaN</td>\n",
       "      <td>63</td>\n",
       "      <td>среднее</td>\n",
       "      <td>1</td>\n",
       "      <td>Не женат / не замужем</td>\n",
       "      <td>4</td>\n",
       "      <td>F</td>\n",
       "      <td>пенсионер</td>\n",
       "      <td>0</td>\n",
       "      <td>NaN</td>\n",
       "      <td>строительство жилой недвижимости</td>\n",
       "    </tr>\n",
       "    <tr>\n",
       "      <th>41</th>\n",
       "      <td>0</td>\n",
       "      <td>NaN</td>\n",
       "      <td>50</td>\n",
       "      <td>среднее</td>\n",
       "      <td>1</td>\n",
       "      <td>женат / замужем</td>\n",
       "      <td>0</td>\n",
       "      <td>F</td>\n",
       "      <td>госслужащий</td>\n",
       "      <td>0</td>\n",
       "      <td>NaN</td>\n",
       "      <td>сделка с подержанным автомобилем</td>\n",
       "    </tr>\n",
       "    <tr>\n",
       "      <th>55</th>\n",
       "      <td>0</td>\n",
       "      <td>NaN</td>\n",
       "      <td>54</td>\n",
       "      <td>среднее</td>\n",
       "      <td>1</td>\n",
       "      <td>гражданский брак</td>\n",
       "      <td>1</td>\n",
       "      <td>F</td>\n",
       "      <td>пенсионер</td>\n",
       "      <td>1</td>\n",
       "      <td>NaN</td>\n",
       "      <td>сыграть свадьбу</td>\n",
       "    </tr>\n",
       "    <tr>\n",
       "      <th>...</th>\n",
       "      <td>...</td>\n",
       "      <td>...</td>\n",
       "      <td>...</td>\n",
       "      <td>...</td>\n",
       "      <td>...</td>\n",
       "      <td>...</td>\n",
       "      <td>...</td>\n",
       "      <td>...</td>\n",
       "      <td>...</td>\n",
       "      <td>...</td>\n",
       "      <td>...</td>\n",
       "      <td>...</td>\n",
       "    </tr>\n",
       "    <tr>\n",
       "      <th>21489</th>\n",
       "      <td>2</td>\n",
       "      <td>NaN</td>\n",
       "      <td>47</td>\n",
       "      <td>Среднее</td>\n",
       "      <td>1</td>\n",
       "      <td>женат / замужем</td>\n",
       "      <td>0</td>\n",
       "      <td>M</td>\n",
       "      <td>компаньон</td>\n",
       "      <td>0</td>\n",
       "      <td>NaN</td>\n",
       "      <td>сделка с автомобилем</td>\n",
       "    </tr>\n",
       "    <tr>\n",
       "      <th>21495</th>\n",
       "      <td>1</td>\n",
       "      <td>NaN</td>\n",
       "      <td>50</td>\n",
       "      <td>среднее</td>\n",
       "      <td>1</td>\n",
       "      <td>гражданский брак</td>\n",
       "      <td>1</td>\n",
       "      <td>F</td>\n",
       "      <td>сотрудник</td>\n",
       "      <td>0</td>\n",
       "      <td>NaN</td>\n",
       "      <td>свадьба</td>\n",
       "    </tr>\n",
       "    <tr>\n",
       "      <th>21497</th>\n",
       "      <td>0</td>\n",
       "      <td>NaN</td>\n",
       "      <td>48</td>\n",
       "      <td>ВЫСШЕЕ</td>\n",
       "      <td>0</td>\n",
       "      <td>женат / замужем</td>\n",
       "      <td>0</td>\n",
       "      <td>F</td>\n",
       "      <td>компаньон</td>\n",
       "      <td>0</td>\n",
       "      <td>NaN</td>\n",
       "      <td>строительство недвижимости</td>\n",
       "    </tr>\n",
       "    <tr>\n",
       "      <th>21502</th>\n",
       "      <td>1</td>\n",
       "      <td>NaN</td>\n",
       "      <td>42</td>\n",
       "      <td>среднее</td>\n",
       "      <td>1</td>\n",
       "      <td>женат / замужем</td>\n",
       "      <td>0</td>\n",
       "      <td>F</td>\n",
       "      <td>сотрудник</td>\n",
       "      <td>0</td>\n",
       "      <td>NaN</td>\n",
       "      <td>строительство жилой недвижимости</td>\n",
       "    </tr>\n",
       "    <tr>\n",
       "      <th>21510</th>\n",
       "      <td>2</td>\n",
       "      <td>NaN</td>\n",
       "      <td>28</td>\n",
       "      <td>среднее</td>\n",
       "      <td>1</td>\n",
       "      <td>женат / замужем</td>\n",
       "      <td>0</td>\n",
       "      <td>F</td>\n",
       "      <td>сотрудник</td>\n",
       "      <td>0</td>\n",
       "      <td>NaN</td>\n",
       "      <td>приобретение автомобиля</td>\n",
       "    </tr>\n",
       "  </tbody>\n",
       "</table>\n",
       "<p>2174 rows × 12 columns</p>\n",
       "</div>"
      ],
      "text/plain": [
       "       children  days_employed  dob_years education  education_id  \\\n",
       "12            0            NaN         65   среднее             1   \n",
       "26            0            NaN         41   среднее             1   \n",
       "29            0            NaN         63   среднее             1   \n",
       "41            0            NaN         50   среднее             1   \n",
       "55            0            NaN         54   среднее             1   \n",
       "...         ...            ...        ...       ...           ...   \n",
       "21489         2            NaN         47   Среднее             1   \n",
       "21495         1            NaN         50   среднее             1   \n",
       "21497         0            NaN         48    ВЫСШЕЕ             0   \n",
       "21502         1            NaN         42   среднее             1   \n",
       "21510         2            NaN         28   среднее             1   \n",
       "\n",
       "               family_status  family_status_id gender  income_type  debt  \\\n",
       "12          гражданский брак                 1      M    пенсионер     0   \n",
       "26           женат / замужем                 0      M  госслужащий     0   \n",
       "29     Не женат / не замужем                 4      F    пенсионер     0   \n",
       "41           женат / замужем                 0      F  госслужащий     0   \n",
       "55          гражданский брак                 1      F    пенсионер     1   \n",
       "...                      ...               ...    ...          ...   ...   \n",
       "21489        женат / замужем                 0      M    компаньон     0   \n",
       "21495       гражданский брак                 1      F    сотрудник     0   \n",
       "21497        женат / замужем                 0      F    компаньон     0   \n",
       "21502        женат / замужем                 0      F    сотрудник     0   \n",
       "21510        женат / замужем                 0      F    сотрудник     0   \n",
       "\n",
       "       total_income                           purpose  \n",
       "12              NaN                   сыграть свадьбу  \n",
       "26              NaN                       образование  \n",
       "29              NaN  строительство жилой недвижимости  \n",
       "41              NaN  сделка с подержанным автомобилем  \n",
       "55              NaN                   сыграть свадьбу  \n",
       "...             ...                               ...  \n",
       "21489           NaN              сделка с автомобилем  \n",
       "21495           NaN                           свадьба  \n",
       "21497           NaN        строительство недвижимости  \n",
       "21502           NaN  строительство жилой недвижимости  \n",
       "21510           NaN           приобретение автомобиля  \n",
       "\n",
       "[2174 rows x 12 columns]"
      ]
     },
     "execution_count": 42,
     "metadata": {},
     "output_type": "execute_result"
    }
   ],
   "source": [
    "data1 = pd.read_csv('C:/Users/klimatutti/Downloads/data.csv')\n",
    "data1.loc[data1['total_income'].isna()]"
   ]
  },
  {
   "cell_type": "markdown",
   "id": "b829c954",
   "metadata": {},
   "source": [
    "**Оказалось, что если в столбце `days_employed` есть пропуски, то и в `total_income` они тоже есть. Больше ничего общего между этими клиентами нет.**"
   ]
  },
  {
   "cell_type": "markdown",
   "id": "ea78485c",
   "metadata": {},
   "source": [
    "**Можно сделать предположение о том, что это технический сбой.**\n"
   ]
  },
  {
   "cell_type": "markdown",
   "id": "83760f3f",
   "metadata": {},
   "source": [
    "## Объясните, почему заполнить пропуски медианным значением — лучшее решение для количественных переменных."
   ]
  },
  {
   "cell_type": "markdown",
   "id": "06f982f3",
   "metadata": {},
   "source": [
    "**Рассчитать медиану - лучшее решение для данных, в которых есть аномальные значения. В таких данный медианное значение даст более реалистичную оценку центрального значения.**\n",
    "\n",
    "Например, есть список данных `[1,2,100,3,-39]`. Нужно найти среднее значение. Найдем его с помощью метода `mean()`"
   ]
  },
  {
   "cell_type": "code",
   "execution_count": 43,
   "id": "cf177371",
   "metadata": {},
   "outputs": [
    {
     "data": {
      "text/plain": [
       "13.4"
      ]
     },
     "execution_count": 43,
     "metadata": {},
     "output_type": "execute_result"
    }
   ],
   "source": [
    "import statistics as st\n",
    "st.mean([1,2,100,3,-39])"
   ]
  },
  {
   "cell_type": "markdown",
   "id": "cb2311cb",
   "metadata": {},
   "source": [
    "Но! В данных есть аномальные значения: *100* и *-39*. Попробуем применить найти медианное значение с помощью метода `median()`"
   ]
  },
  {
   "cell_type": "code",
   "execution_count": 44,
   "id": "51594f0c",
   "metadata": {},
   "outputs": [
    {
     "data": {
      "text/plain": [
       "2"
      ]
     },
     "execution_count": 44,
     "metadata": {},
     "output_type": "execute_result"
    }
   ],
   "source": [
    "st.median([1,2,100,3,-39])"
   ]
  },
  {
   "cell_type": "markdown",
   "id": "d09f354b",
   "metadata": {},
   "source": [
    "Значения значительно отличаются и второй вариант больше похож на правду."
   ]
  },
  {
   "cell_type": "markdown",
   "id": "3c0f72fd",
   "metadata": {},
   "source": [
    "## Вывод\n"
   ]
  },
  {
   "cell_type": "markdown",
   "id": "de6e1727",
   "metadata": {},
   "source": [
    "### От количества детей зависит возврат кредита в срок\n",
    "\n",
    "  **Для того, чтобы окончательно подтвердить гипотезу, необходимы дополнительные данные. Количество многодетных клиентов очень малО, например, клиентов, имеющих 5 детей всего *9*.**\n",
    "\n",
    "  - 8% должников среди клиентов, не имеющих детей;\n",
    "  - 10% должников среди клиентов с 1 ребенком;\n",
    "  - 10% должников среди клиентов с 2 детьми.\n",
    "\n",
    " **Из-за недостаточного количества данных гипотезу советуется считать ненадёжной**\n",
    "\n",
    "\n",
    "\n",
    "### Семейное положение клиента влияет на погашение кредита в срок\n",
    "\n",
    "  **Зависимость между семейным положением и возвратом кредита есть. Чаще всего являются должниками клиенты со статусом: *не женат/не замужем* и *гражданский брак*. Реже всего имеют долги клиенты с семейным положением: *вдовец/вдова*.**\n",
    "\n",
    "   - 7% должников со статусом вдовец/вдова;\n",
    "   - 8% должников со статусом в разводе;\n",
    "   - 8% должников со статусом женат/замужем;\n",
    "   - 10% должников со статусом гражданский брак;\n",
    "   - 11% должников со статусом не женат/не замужем.\n",
    "  \n",
    "  **Можно положиться на клиентов со статусом *вдовец/вдова*, с осторожностью доверять клиентам со статусом *не женат/не замужем***\n",
    "  \n",
    "  \n",
    "### Доход клиента влияет на погашение кредита в срок  \n",
    "\n",
    "**Для того, чтобы окончательно подтвердить гипотезу, необходимы дополнительные данные. Количество клиентов с доходом категорий: А, D, E очень малО, например, клиентов, имеющих доход от 0 до 30000 детей всего 12.**\n",
    "\n",
    "  - 8% должников с доходом от 200001 до 1000000\n",
    "  - 9% должников с доходом от 50001 до 200000\n",
    "\n",
    " **От количества дохода зависит возврат кредита в срок, но для конечного подтверждения необходимы дополнительные данные. Гипотезу советуется считать ненадёжной.**\n",
    "\n",
    "\n",
    "### Цели кредита влияют на погашение кредита в срок\n",
    "\n",
    "  **Меньше всего долгов имеют клиенты, берущие кредит для операций с недвижимостью. Меньше стоит доверять клиентам, берущим кредит на получение образования и для операций с автомобилем.**\n",
    "\n",
    "   - 8% должников, которые приобрели кредит для операций с недвижимостью;\n",
    "   - 9% должников, которые приобрели кредит для проведения свадьбы;\n",
    "   - 10% должников, которые приобрели кредит для операций с автомобилем;\n",
    "   - 10% должников, которые приобрели кредит для получения образования.\n",
    "  \n",
    "  **Можно положиться на клиентов, которые приобрели кредит для операций с недвижимостью, с осторожностью доверять клиентам, которые приобрели кредит для операций с автомобилем и для получения образования.**"
   ]
  },
  {
   "cell_type": "markdown",
   "id": "86379bf2",
   "metadata": {},
   "source": [
    "**Для того, чтобы полагаться на неподтвержденные гипотезы необходимы дополнительные данные.**"
   ]
  }
 ],
 "metadata": {
  "ExecuteTimeLog": [
   {
    "duration": 400,
    "start_time": "2022-12-19T14:14:36.966Z"
   },
   {
    "duration": 98,
    "start_time": "2022-12-19T14:14:37.368Z"
   },
   {
    "duration": 0,
    "start_time": "2022-12-19T14:14:37.468Z"
   },
   {
    "duration": 0,
    "start_time": "2022-12-19T14:14:37.470Z"
   },
   {
    "duration": 0,
    "start_time": "2022-12-19T14:14:37.471Z"
   },
   {
    "duration": 0,
    "start_time": "2022-12-19T14:14:37.472Z"
   },
   {
    "duration": 0,
    "start_time": "2022-12-19T14:14:37.473Z"
   },
   {
    "duration": 0,
    "start_time": "2022-12-19T14:14:37.474Z"
   },
   {
    "duration": 0,
    "start_time": "2022-12-19T14:14:37.475Z"
   },
   {
    "duration": 0,
    "start_time": "2022-12-19T14:14:37.476Z"
   },
   {
    "duration": 0,
    "start_time": "2022-12-19T14:14:37.477Z"
   },
   {
    "duration": 0,
    "start_time": "2022-12-19T14:14:37.478Z"
   },
   {
    "duration": 0,
    "start_time": "2022-12-19T14:14:37.478Z"
   },
   {
    "duration": 0,
    "start_time": "2022-12-19T14:14:37.479Z"
   },
   {
    "duration": 0,
    "start_time": "2022-12-19T14:14:37.480Z"
   },
   {
    "duration": 0,
    "start_time": "2022-12-19T14:14:37.481Z"
   },
   {
    "duration": 0,
    "start_time": "2022-12-19T14:14:37.482Z"
   },
   {
    "duration": 0,
    "start_time": "2022-12-19T14:14:37.483Z"
   },
   {
    "duration": 0,
    "start_time": "2022-12-19T14:14:37.484Z"
   },
   {
    "duration": 0,
    "start_time": "2022-12-19T14:14:37.485Z"
   },
   {
    "duration": 0,
    "start_time": "2022-12-19T14:14:37.486Z"
   },
   {
    "duration": 0,
    "start_time": "2022-12-19T14:14:37.488Z"
   },
   {
    "duration": 0,
    "start_time": "2022-12-19T14:14:37.489Z"
   },
   {
    "duration": 0,
    "start_time": "2022-12-19T14:14:37.490Z"
   },
   {
    "duration": 0,
    "start_time": "2022-12-19T14:14:37.491Z"
   },
   {
    "duration": 0,
    "start_time": "2022-12-19T14:14:37.492Z"
   },
   {
    "duration": 0,
    "start_time": "2022-12-19T14:14:37.493Z"
   },
   {
    "duration": 0,
    "start_time": "2022-12-19T14:14:37.494Z"
   },
   {
    "duration": 0,
    "start_time": "2022-12-19T14:14:37.495Z"
   },
   {
    "duration": 0,
    "start_time": "2022-12-19T14:14:37.496Z"
   },
   {
    "duration": 70,
    "start_time": "2022-12-19T14:16:56.317Z"
   },
   {
    "duration": 22,
    "start_time": "2022-12-19T14:16:58.462Z"
   },
   {
    "duration": 390,
    "start_time": "2022-12-19T14:17:04.967Z"
   },
   {
    "duration": 71,
    "start_time": "2022-12-19T14:17:05.359Z"
   },
   {
    "duration": 22,
    "start_time": "2022-12-19T14:17:05.432Z"
   },
   {
    "duration": 14,
    "start_time": "2022-12-19T14:17:05.456Z"
   },
   {
    "duration": 10,
    "start_time": "2022-12-19T14:17:05.472Z"
   },
   {
    "duration": 39,
    "start_time": "2022-12-19T14:17:05.483Z"
   },
   {
    "duration": 29,
    "start_time": "2022-12-19T14:17:05.523Z"
   },
   {
    "duration": 7,
    "start_time": "2022-12-19T14:17:05.554Z"
   },
   {
    "duration": 8,
    "start_time": "2022-12-19T14:17:05.563Z"
   },
   {
    "duration": 12,
    "start_time": "2022-12-19T14:17:05.572Z"
   },
   {
    "duration": 7,
    "start_time": "2022-12-19T14:17:05.585Z"
   },
   {
    "duration": 37,
    "start_time": "2022-12-19T14:17:05.594Z"
   },
   {
    "duration": 8,
    "start_time": "2022-12-19T14:17:05.653Z"
   },
   {
    "duration": 23,
    "start_time": "2022-12-19T14:17:05.664Z"
   },
   {
    "duration": 10,
    "start_time": "2022-12-19T14:17:05.689Z"
   },
   {
    "duration": 18,
    "start_time": "2022-12-19T14:17:05.701Z"
   },
   {
    "duration": 42,
    "start_time": "2022-12-19T14:17:05.720Z"
   },
   {
    "duration": 3,
    "start_time": "2022-12-19T14:17:05.764Z"
   },
   {
    "duration": 13,
    "start_time": "2022-12-19T14:17:05.768Z"
   },
   {
    "duration": 20,
    "start_time": "2022-12-19T14:17:05.783Z"
   },
   {
    "duration": 20,
    "start_time": "2022-12-19T14:17:05.805Z"
   },
   {
    "duration": 9,
    "start_time": "2022-12-19T14:17:05.826Z"
   },
   {
    "duration": 18,
    "start_time": "2022-12-19T14:17:05.836Z"
   },
   {
    "duration": 43,
    "start_time": "2022-12-19T14:17:05.856Z"
   },
   {
    "duration": 1033,
    "start_time": "2022-12-19T14:17:05.900Z"
   },
   {
    "duration": 133,
    "start_time": "2022-12-19T14:17:06.935Z"
   },
   {
    "duration": 120,
    "start_time": "2022-12-19T14:17:07.070Z"
   },
   {
    "duration": 153,
    "start_time": "2022-12-19T14:17:07.192Z"
   },
   {
    "duration": 16,
    "start_time": "2022-12-19T14:17:07.347Z"
   },
   {
    "duration": 4,
    "start_time": "2022-12-19T14:17:07.364Z"
   },
   {
    "duration": 361,
    "start_time": "2022-12-20T15:59:26.862Z"
   },
   {
    "duration": 106,
    "start_time": "2022-12-20T15:59:27.225Z"
   },
   {
    "duration": 0,
    "start_time": "2022-12-20T15:59:27.333Z"
   },
   {
    "duration": 0,
    "start_time": "2022-12-20T15:59:27.334Z"
   },
   {
    "duration": 0,
    "start_time": "2022-12-20T15:59:27.335Z"
   },
   {
    "duration": 0,
    "start_time": "2022-12-20T15:59:27.337Z"
   },
   {
    "duration": 0,
    "start_time": "2022-12-20T15:59:27.337Z"
   },
   {
    "duration": 0,
    "start_time": "2022-12-20T15:59:27.338Z"
   },
   {
    "duration": 0,
    "start_time": "2022-12-20T15:59:27.339Z"
   },
   {
    "duration": 0,
    "start_time": "2022-12-20T15:59:27.340Z"
   },
   {
    "duration": 0,
    "start_time": "2022-12-20T15:59:27.341Z"
   },
   {
    "duration": 0,
    "start_time": "2022-12-20T15:59:27.342Z"
   },
   {
    "duration": 0,
    "start_time": "2022-12-20T15:59:27.343Z"
   },
   {
    "duration": 0,
    "start_time": "2022-12-20T15:59:27.344Z"
   },
   {
    "duration": 0,
    "start_time": "2022-12-20T15:59:27.345Z"
   },
   {
    "duration": 0,
    "start_time": "2022-12-20T15:59:27.346Z"
   },
   {
    "duration": 0,
    "start_time": "2022-12-20T15:59:27.347Z"
   },
   {
    "duration": 0,
    "start_time": "2022-12-20T15:59:27.348Z"
   },
   {
    "duration": 0,
    "start_time": "2022-12-20T15:59:27.349Z"
   },
   {
    "duration": 0,
    "start_time": "2022-12-20T15:59:27.349Z"
   },
   {
    "duration": 0,
    "start_time": "2022-12-20T15:59:27.350Z"
   },
   {
    "duration": 0,
    "start_time": "2022-12-20T15:59:27.351Z"
   },
   {
    "duration": 0,
    "start_time": "2022-12-20T15:59:27.352Z"
   },
   {
    "duration": 0,
    "start_time": "2022-12-20T15:59:27.353Z"
   },
   {
    "duration": 0,
    "start_time": "2022-12-20T15:59:27.354Z"
   },
   {
    "duration": 0,
    "start_time": "2022-12-20T15:59:27.355Z"
   },
   {
    "duration": 0,
    "start_time": "2022-12-20T15:59:27.356Z"
   },
   {
    "duration": 0,
    "start_time": "2022-12-20T15:59:27.357Z"
   },
   {
    "duration": 0,
    "start_time": "2022-12-20T15:59:27.358Z"
   },
   {
    "duration": 0,
    "start_time": "2022-12-20T15:59:27.359Z"
   },
   {
    "duration": 0,
    "start_time": "2022-12-20T15:59:27.404Z"
   },
   {
    "duration": 457,
    "start_time": "2022-12-20T15:59:46.903Z"
   },
   {
    "duration": 72,
    "start_time": "2022-12-20T15:59:47.362Z"
   },
   {
    "duration": 24,
    "start_time": "2022-12-20T15:59:47.436Z"
   },
   {
    "duration": 16,
    "start_time": "2022-12-20T15:59:47.462Z"
   },
   {
    "duration": 33,
    "start_time": "2022-12-20T15:59:47.480Z"
   },
   {
    "duration": 37,
    "start_time": "2022-12-20T15:59:47.515Z"
   },
   {
    "duration": 6,
    "start_time": "2022-12-20T15:59:47.554Z"
   },
   {
    "duration": 10,
    "start_time": "2022-12-20T15:59:47.561Z"
   },
   {
    "duration": 38,
    "start_time": "2022-12-20T15:59:47.573Z"
   },
   {
    "duration": 9,
    "start_time": "2022-12-20T15:59:47.613Z"
   },
   {
    "duration": 5,
    "start_time": "2022-12-20T15:59:47.623Z"
   },
   {
    "duration": 40,
    "start_time": "2022-12-20T15:59:47.629Z"
   },
   {
    "duration": 10,
    "start_time": "2022-12-20T15:59:47.671Z"
   },
   {
    "duration": 15,
    "start_time": "2022-12-20T15:59:47.705Z"
   },
   {
    "duration": 10,
    "start_time": "2022-12-20T15:59:47.722Z"
   },
   {
    "duration": 21,
    "start_time": "2022-12-20T15:59:47.733Z"
   },
   {
    "duration": 17,
    "start_time": "2022-12-20T15:59:47.756Z"
   },
   {
    "duration": 3,
    "start_time": "2022-12-20T15:59:47.775Z"
   },
   {
    "duration": 38,
    "start_time": "2022-12-20T15:59:47.779Z"
   },
   {
    "duration": 14,
    "start_time": "2022-12-20T15:59:47.818Z"
   },
   {
    "duration": 9,
    "start_time": "2022-12-20T15:59:47.834Z"
   },
   {
    "duration": 6,
    "start_time": "2022-12-20T15:59:47.844Z"
   },
   {
    "duration": 20,
    "start_time": "2022-12-20T15:59:47.852Z"
   },
   {
    "duration": 32,
    "start_time": "2022-12-20T15:59:47.874Z"
   },
   {
    "duration": 102,
    "start_time": "2022-12-20T15:59:47.908Z"
   },
   {
    "duration": 0,
    "start_time": "2022-12-20T15:59:48.012Z"
   },
   {
    "duration": 0,
    "start_time": "2022-12-20T15:59:48.014Z"
   },
   {
    "duration": 0,
    "start_time": "2022-12-20T15:59:48.016Z"
   },
   {
    "duration": 0,
    "start_time": "2022-12-20T15:59:48.018Z"
   },
   {
    "duration": 0,
    "start_time": "2022-12-20T15:59:48.019Z"
   },
   {
    "duration": 0,
    "start_time": "2022-12-20T15:59:48.021Z"
   },
   {
    "duration": 0,
    "start_time": "2022-12-20T15:59:48.022Z"
   },
   {
    "duration": 0,
    "start_time": "2022-12-20T15:59:48.023Z"
   },
   {
    "duration": 0,
    "start_time": "2022-12-20T15:59:48.024Z"
   },
   {
    "duration": 0,
    "start_time": "2022-12-20T15:59:48.025Z"
   },
   {
    "duration": 0,
    "start_time": "2022-12-20T15:59:48.026Z"
   },
   {
    "duration": 0,
    "start_time": "2022-12-20T15:59:48.027Z"
   },
   {
    "duration": 0,
    "start_time": "2022-12-20T15:59:48.028Z"
   },
   {
    "duration": 1194,
    "start_time": "2022-12-20T16:00:26.432Z"
   },
   {
    "duration": 77,
    "start_time": "2022-12-20T16:00:27.628Z"
   },
   {
    "duration": 20,
    "start_time": "2022-12-20T16:00:27.706Z"
   },
   {
    "duration": 15,
    "start_time": "2022-12-20T16:00:27.728Z"
   },
   {
    "duration": 11,
    "start_time": "2022-12-20T16:00:27.745Z"
   },
   {
    "duration": 70,
    "start_time": "2022-12-20T16:00:27.758Z"
   },
   {
    "duration": 6,
    "start_time": "2022-12-20T16:00:27.829Z"
   },
   {
    "duration": 10,
    "start_time": "2022-12-20T16:00:27.838Z"
   },
   {
    "duration": 8,
    "start_time": "2022-12-20T16:00:27.849Z"
   },
   {
    "duration": 23,
    "start_time": "2022-12-20T16:00:27.860Z"
   },
   {
    "duration": 21,
    "start_time": "2022-12-20T16:00:27.884Z"
   },
   {
    "duration": 38,
    "start_time": "2022-12-20T16:00:27.907Z"
   },
   {
    "duration": 12,
    "start_time": "2022-12-20T16:00:27.946Z"
   },
   {
    "duration": 17,
    "start_time": "2022-12-20T16:00:27.960Z"
   },
   {
    "duration": 36,
    "start_time": "2022-12-20T16:00:27.979Z"
   },
   {
    "duration": 30,
    "start_time": "2022-12-20T16:00:28.017Z"
   },
   {
    "duration": 22,
    "start_time": "2022-12-20T16:00:28.049Z"
   },
   {
    "duration": 4,
    "start_time": "2022-12-20T16:00:28.073Z"
   },
   {
    "duration": 30,
    "start_time": "2022-12-20T16:00:28.078Z"
   },
   {
    "duration": 14,
    "start_time": "2022-12-20T16:00:28.110Z"
   },
   {
    "duration": 15,
    "start_time": "2022-12-20T16:00:28.125Z"
   },
   {
    "duration": 31,
    "start_time": "2022-12-20T16:00:28.143Z"
   },
   {
    "duration": 16,
    "start_time": "2022-12-20T16:00:28.177Z"
   },
   {
    "duration": 22,
    "start_time": "2022-12-20T16:00:28.195Z"
   },
   {
    "duration": 332,
    "start_time": "2022-12-20T16:00:28.219Z"
   },
   {
    "duration": 0,
    "start_time": "2022-12-20T16:00:28.553Z"
   },
   {
    "duration": 0,
    "start_time": "2022-12-20T16:00:28.555Z"
   },
   {
    "duration": 0,
    "start_time": "2022-12-20T16:00:28.555Z"
   },
   {
    "duration": 1,
    "start_time": "2022-12-20T16:00:28.556Z"
   },
   {
    "duration": 0,
    "start_time": "2022-12-20T16:00:28.558Z"
   },
   {
    "duration": 0,
    "start_time": "2022-12-20T16:00:28.559Z"
   },
   {
    "duration": 0,
    "start_time": "2022-12-20T16:00:28.561Z"
   },
   {
    "duration": 0,
    "start_time": "2022-12-20T16:00:28.562Z"
   },
   {
    "duration": 0,
    "start_time": "2022-12-20T16:00:28.563Z"
   },
   {
    "duration": 0,
    "start_time": "2022-12-20T16:00:28.563Z"
   },
   {
    "duration": 0,
    "start_time": "2022-12-20T16:00:28.564Z"
   },
   {
    "duration": 0,
    "start_time": "2022-12-20T16:00:28.565Z"
   },
   {
    "duration": 0,
    "start_time": "2022-12-20T16:00:28.566Z"
   },
   {
    "duration": 1165,
    "start_time": "2022-12-20T16:01:19.877Z"
   },
   {
    "duration": 72,
    "start_time": "2022-12-20T16:01:21.044Z"
   },
   {
    "duration": 17,
    "start_time": "2022-12-20T16:01:21.117Z"
   },
   {
    "duration": 18,
    "start_time": "2022-12-20T16:01:21.136Z"
   },
   {
    "duration": 9,
    "start_time": "2022-12-20T16:01:21.155Z"
   },
   {
    "duration": 58,
    "start_time": "2022-12-20T16:01:21.166Z"
   },
   {
    "duration": 6,
    "start_time": "2022-12-20T16:01:21.225Z"
   },
   {
    "duration": 25,
    "start_time": "2022-12-20T16:01:21.233Z"
   },
   {
    "duration": 7,
    "start_time": "2022-12-20T16:01:21.260Z"
   },
   {
    "duration": 7,
    "start_time": "2022-12-20T16:01:21.269Z"
   },
   {
    "duration": 4,
    "start_time": "2022-12-20T16:01:21.277Z"
   },
   {
    "duration": 53,
    "start_time": "2022-12-20T16:01:21.282Z"
   },
   {
    "duration": 10,
    "start_time": "2022-12-20T16:01:21.336Z"
   },
   {
    "duration": 20,
    "start_time": "2022-12-20T16:01:21.347Z"
   },
   {
    "duration": 11,
    "start_time": "2022-12-20T16:01:21.368Z"
   },
   {
    "duration": 37,
    "start_time": "2022-12-20T16:01:21.380Z"
   },
   {
    "duration": 17,
    "start_time": "2022-12-20T16:01:21.419Z"
   },
   {
    "duration": 3,
    "start_time": "2022-12-20T16:01:21.437Z"
   },
   {
    "duration": 15,
    "start_time": "2022-12-20T16:01:21.441Z"
   },
   {
    "duration": 13,
    "start_time": "2022-12-20T16:01:21.457Z"
   },
   {
    "duration": 7,
    "start_time": "2022-12-20T16:01:21.472Z"
   },
   {
    "duration": 5,
    "start_time": "2022-12-20T16:01:21.504Z"
   },
   {
    "duration": 13,
    "start_time": "2022-12-20T16:01:21.510Z"
   },
   {
    "duration": 17,
    "start_time": "2022-12-20T16:01:21.524Z"
   },
   {
    "duration": 3,
    "start_time": "2022-12-20T16:01:21.542Z"
   },
   {
    "duration": 112,
    "start_time": "2022-12-20T16:01:21.547Z"
   },
   {
    "duration": 0,
    "start_time": "2022-12-20T16:01:21.661Z"
   },
   {
    "duration": 0,
    "start_time": "2022-12-20T16:01:21.662Z"
   },
   {
    "duration": 0,
    "start_time": "2022-12-20T16:01:21.664Z"
   },
   {
    "duration": 0,
    "start_time": "2022-12-20T16:01:21.665Z"
   },
   {
    "duration": 0,
    "start_time": "2022-12-20T16:01:21.667Z"
   },
   {
    "duration": 0,
    "start_time": "2022-12-20T16:01:21.668Z"
   },
   {
    "duration": 0,
    "start_time": "2022-12-20T16:01:21.670Z"
   },
   {
    "duration": 0,
    "start_time": "2022-12-20T16:01:21.671Z"
   },
   {
    "duration": 1,
    "start_time": "2022-12-20T16:01:21.672Z"
   },
   {
    "duration": 0,
    "start_time": "2022-12-20T16:01:21.674Z"
   },
   {
    "duration": 0,
    "start_time": "2022-12-20T16:01:21.704Z"
   },
   {
    "duration": 0,
    "start_time": "2022-12-20T16:01:21.707Z"
   },
   {
    "duration": 233,
    "start_time": "2022-12-20T16:01:38.345Z"
   },
   {
    "duration": 198,
    "start_time": "2022-12-20T16:01:55.826Z"
   },
   {
    "duration": 4,
    "start_time": "2022-12-20T16:02:00.526Z"
   }
  ],
  "kernelspec": {
   "display_name": "Python 3 (ipykernel)",
   "language": "python",
   "name": "python3"
  },
  "language_info": {
   "codemirror_mode": {
    "name": "ipython",
    "version": 3
   },
   "file_extension": ".py",
   "mimetype": "text/x-python",
   "name": "python",
   "nbconvert_exporter": "python",
   "pygments_lexer": "ipython3",
   "version": "3.9.13"
  },
  "toc": {
   "base_numbering": 1,
   "nav_menu": {},
   "number_sections": true,
   "sideBar": true,
   "skip_h1_title": true,
   "title_cell": "Table of Contents",
   "title_sidebar": "Contents",
   "toc_cell": false,
   "toc_position": {
    "height": "calc(100% - 180px)",
    "left": "10px",
    "top": "150px",
    "width": "512px"
   },
   "toc_section_display": true,
   "toc_window_display": true
  }
 },
 "nbformat": 4,
 "nbformat_minor": 5
}
